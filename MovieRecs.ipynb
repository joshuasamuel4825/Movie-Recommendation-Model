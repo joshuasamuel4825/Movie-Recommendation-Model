{
  "nbformat": 4,
  "nbformat_minor": 0,
  "metadata": {
    "colab": {
      "provenance": []
    },
    "kernelspec": {
      "name": "python3",
      "display_name": "Python 3"
    },
    "language_info": {
      "name": "python"
    }
  },
  "cells": [
    {
      "cell_type": "code",
      "source": [
        "#import dependencies\n",
        "import pandas as pd\n",
        "import numpy as np\n",
        "from sklearn.feature_extraction.text import TfidfVectorizer\n",
        "from sklearn.metrics.pairwise import cosine_similarity\n",
        "import difflib\n"
      ],
      "metadata": {
        "id": "H2tUST6C6ypS"
      },
      "execution_count": 58,
      "outputs": []
    },
    {
      "cell_type": "code",
      "source": [
        "\n",
        "# Load movies data\n",
        "movies = pd.read_csv('/content/movies.csv')\n",
        "#convert all columns except index to string\n",
        "movies= movies.astype(str)\n",
        "movies = movies.astype({'index': 'int32'})"
      ],
      "metadata": {
        "id": "7kJHAJSA6zyh"
      },
      "execution_count": 59,
      "outputs": []
    },
    {
      "cell_type": "code",
      "source": [
        "movies.head()"
      ],
      "metadata": {
        "colab": {
          "base_uri": "https://localhost:8080/",
          "height": 803
        },
        "id": "sJyYCwN3Vi4M",
        "outputId": "cd035d25-ba1b-40d5-93de-b8dfde4be815"
      },
      "execution_count": 131,
      "outputs": [
        {
          "output_type": "execute_result",
          "data": {
            "text/plain": [
              "   index     budget                                    genres  \\\n",
              "0      0  237000000  Action Adventure Fantasy Science Fiction   \n",
              "1      1  300000000                  Adventure Fantasy Action   \n",
              "2      2  245000000                    Action Adventure Crime   \n",
              "3      3  250000000               Action Crime Drama Thriller   \n",
              "4      4  260000000          Action Adventure Science Fiction   \n",
              "\n",
              "                                       homepage      id  \\\n",
              "0                   http://www.avatarmovie.com/   19995   \n",
              "1  http://disney.go.com/disneypictures/pirates/     285   \n",
              "2   http://www.sonypictures.com/movies/spectre/  206647   \n",
              "3            http://www.thedarkknightrises.com/   49026   \n",
              "4          http://movies.disney.com/john-carter   49529   \n",
              "\n",
              "                                            keywords original_language  \\\n",
              "0  culture clash future space war space colony so...                en   \n",
              "1  ocean drug abuse exotic island east india trad...                en   \n",
              "2         spy based on novel secret agent sequel mi6                en   \n",
              "3  dc comics crime fighter terrorist secret ident...                en   \n",
              "4  based on novel mars medallion space travel pri...                en   \n",
              "\n",
              "                             original_title  \\\n",
              "0                                    Avatar   \n",
              "1  Pirates of the Caribbean: At World's End   \n",
              "2                                   Spectre   \n",
              "3                     The Dark Knight Rises   \n",
              "4                               John Carter   \n",
              "\n",
              "                                            overview  popularity  ... runtime  \\\n",
              "0  In the 22nd century, a paraplegic Marine is di...  150.437577  ...   162.0   \n",
              "1  Captain Barbossa, long believed to be dead, ha...  139.082615  ...   169.0   \n",
              "2  A cryptic message from Bond’s past sends him o...  107.376788  ...   148.0   \n",
              "3  Following the death of District Attorney Harve...   112.31295  ...   165.0   \n",
              "4  John Carter is a war-weary, former military ca...   43.926995  ...   132.0   \n",
              "\n",
              "                                    spoken_languages    status  \\\n",
              "0  [{\"iso_639_1\": \"en\", \"name\": \"English\"}, {\"iso...  Released   \n",
              "1           [{\"iso_639_1\": \"en\", \"name\": \"English\"}]  Released   \n",
              "2  [{\"iso_639_1\": \"fr\", \"name\": \"Fran\\u00e7ais\"},...  Released   \n",
              "3           [{\"iso_639_1\": \"en\", \"name\": \"English\"}]  Released   \n",
              "4           [{\"iso_639_1\": \"en\", \"name\": \"English\"}]  Released   \n",
              "\n",
              "                                          tagline  \\\n",
              "0                     Enter the World of Pandora.   \n",
              "1  At the end of the world, the adventure begins.   \n",
              "2                           A Plan No One Escapes   \n",
              "3                                 The Legend Ends   \n",
              "4            Lost in our world, found in another.   \n",
              "\n",
              "                                      title vote_average vote_count  \\\n",
              "0                                    Avatar          7.2      11800   \n",
              "1  Pirates of the Caribbean: At World's End          6.9       4500   \n",
              "2                                   Spectre          6.3       4466   \n",
              "3                     The Dark Knight Rises          7.6       9106   \n",
              "4                               John Carter          6.1       2124   \n",
              "\n",
              "                                                cast  \\\n",
              "0  Sam Worthington Zoe Saldana Sigourney Weaver S...   \n",
              "1  Johnny Depp Orlando Bloom Keira Knightley Stel...   \n",
              "2  Daniel Craig Christoph Waltz L\\u00e9a Seydoux ...   \n",
              "3  Christian Bale Michael Caine Gary Oldman Anne ...   \n",
              "4  Taylor Kitsch Lynn Collins Samantha Morton Wil...   \n",
              "\n",
              "                                                crew           director  \n",
              "0  [{'name': 'Stephen E. Rivkin', 'gender': 0, 'd...      James Cameron  \n",
              "1  [{'name': 'Dariusz Wolski', 'gender': 2, 'depa...     Gore Verbinski  \n",
              "2  [{'name': 'Thomas Newman', 'gender': 2, 'depar...         Sam Mendes  \n",
              "3  [{'name': 'Hans Zimmer', 'gender': 2, 'departm...  Christopher Nolan  \n",
              "4  [{'name': 'Andrew Stanton', 'gender': 2, 'depa...     Andrew Stanton  \n",
              "\n",
              "[5 rows x 24 columns]"
            ],
            "text/html": [
              "\n",
              "  <div id=\"df-22e6c353-9224-45a0-8645-29236478931f\">\n",
              "    <div class=\"colab-df-container\">\n",
              "      <div>\n",
              "<style scoped>\n",
              "    .dataframe tbody tr th:only-of-type {\n",
              "        vertical-align: middle;\n",
              "    }\n",
              "\n",
              "    .dataframe tbody tr th {\n",
              "        vertical-align: top;\n",
              "    }\n",
              "\n",
              "    .dataframe thead th {\n",
              "        text-align: right;\n",
              "    }\n",
              "</style>\n",
              "<table border=\"1\" class=\"dataframe\">\n",
              "  <thead>\n",
              "    <tr style=\"text-align: right;\">\n",
              "      <th></th>\n",
              "      <th>index</th>\n",
              "      <th>budget</th>\n",
              "      <th>genres</th>\n",
              "      <th>homepage</th>\n",
              "      <th>id</th>\n",
              "      <th>keywords</th>\n",
              "      <th>original_language</th>\n",
              "      <th>original_title</th>\n",
              "      <th>overview</th>\n",
              "      <th>popularity</th>\n",
              "      <th>...</th>\n",
              "      <th>runtime</th>\n",
              "      <th>spoken_languages</th>\n",
              "      <th>status</th>\n",
              "      <th>tagline</th>\n",
              "      <th>title</th>\n",
              "      <th>vote_average</th>\n",
              "      <th>vote_count</th>\n",
              "      <th>cast</th>\n",
              "      <th>crew</th>\n",
              "      <th>director</th>\n",
              "    </tr>\n",
              "  </thead>\n",
              "  <tbody>\n",
              "    <tr>\n",
              "      <th>0</th>\n",
              "      <td>0</td>\n",
              "      <td>237000000</td>\n",
              "      <td>Action Adventure Fantasy Science Fiction</td>\n",
              "      <td>http://www.avatarmovie.com/</td>\n",
              "      <td>19995</td>\n",
              "      <td>culture clash future space war space colony so...</td>\n",
              "      <td>en</td>\n",
              "      <td>Avatar</td>\n",
              "      <td>In the 22nd century, a paraplegic Marine is di...</td>\n",
              "      <td>150.437577</td>\n",
              "      <td>...</td>\n",
              "      <td>162.0</td>\n",
              "      <td>[{\"iso_639_1\": \"en\", \"name\": \"English\"}, {\"iso...</td>\n",
              "      <td>Released</td>\n",
              "      <td>Enter the World of Pandora.</td>\n",
              "      <td>Avatar</td>\n",
              "      <td>7.2</td>\n",
              "      <td>11800</td>\n",
              "      <td>Sam Worthington Zoe Saldana Sigourney Weaver S...</td>\n",
              "      <td>[{'name': 'Stephen E. Rivkin', 'gender': 0, 'd...</td>\n",
              "      <td>James Cameron</td>\n",
              "    </tr>\n",
              "    <tr>\n",
              "      <th>1</th>\n",
              "      <td>1</td>\n",
              "      <td>300000000</td>\n",
              "      <td>Adventure Fantasy Action</td>\n",
              "      <td>http://disney.go.com/disneypictures/pirates/</td>\n",
              "      <td>285</td>\n",
              "      <td>ocean drug abuse exotic island east india trad...</td>\n",
              "      <td>en</td>\n",
              "      <td>Pirates of the Caribbean: At World's End</td>\n",
              "      <td>Captain Barbossa, long believed to be dead, ha...</td>\n",
              "      <td>139.082615</td>\n",
              "      <td>...</td>\n",
              "      <td>169.0</td>\n",
              "      <td>[{\"iso_639_1\": \"en\", \"name\": \"English\"}]</td>\n",
              "      <td>Released</td>\n",
              "      <td>At the end of the world, the adventure begins.</td>\n",
              "      <td>Pirates of the Caribbean: At World's End</td>\n",
              "      <td>6.9</td>\n",
              "      <td>4500</td>\n",
              "      <td>Johnny Depp Orlando Bloom Keira Knightley Stel...</td>\n",
              "      <td>[{'name': 'Dariusz Wolski', 'gender': 2, 'depa...</td>\n",
              "      <td>Gore Verbinski</td>\n",
              "    </tr>\n",
              "    <tr>\n",
              "      <th>2</th>\n",
              "      <td>2</td>\n",
              "      <td>245000000</td>\n",
              "      <td>Action Adventure Crime</td>\n",
              "      <td>http://www.sonypictures.com/movies/spectre/</td>\n",
              "      <td>206647</td>\n",
              "      <td>spy based on novel secret agent sequel mi6</td>\n",
              "      <td>en</td>\n",
              "      <td>Spectre</td>\n",
              "      <td>A cryptic message from Bond’s past sends him o...</td>\n",
              "      <td>107.376788</td>\n",
              "      <td>...</td>\n",
              "      <td>148.0</td>\n",
              "      <td>[{\"iso_639_1\": \"fr\", \"name\": \"Fran\\u00e7ais\"},...</td>\n",
              "      <td>Released</td>\n",
              "      <td>A Plan No One Escapes</td>\n",
              "      <td>Spectre</td>\n",
              "      <td>6.3</td>\n",
              "      <td>4466</td>\n",
              "      <td>Daniel Craig Christoph Waltz L\\u00e9a Seydoux ...</td>\n",
              "      <td>[{'name': 'Thomas Newman', 'gender': 2, 'depar...</td>\n",
              "      <td>Sam Mendes</td>\n",
              "    </tr>\n",
              "    <tr>\n",
              "      <th>3</th>\n",
              "      <td>3</td>\n",
              "      <td>250000000</td>\n",
              "      <td>Action Crime Drama Thriller</td>\n",
              "      <td>http://www.thedarkknightrises.com/</td>\n",
              "      <td>49026</td>\n",
              "      <td>dc comics crime fighter terrorist secret ident...</td>\n",
              "      <td>en</td>\n",
              "      <td>The Dark Knight Rises</td>\n",
              "      <td>Following the death of District Attorney Harve...</td>\n",
              "      <td>112.31295</td>\n",
              "      <td>...</td>\n",
              "      <td>165.0</td>\n",
              "      <td>[{\"iso_639_1\": \"en\", \"name\": \"English\"}]</td>\n",
              "      <td>Released</td>\n",
              "      <td>The Legend Ends</td>\n",
              "      <td>The Dark Knight Rises</td>\n",
              "      <td>7.6</td>\n",
              "      <td>9106</td>\n",
              "      <td>Christian Bale Michael Caine Gary Oldman Anne ...</td>\n",
              "      <td>[{'name': 'Hans Zimmer', 'gender': 2, 'departm...</td>\n",
              "      <td>Christopher Nolan</td>\n",
              "    </tr>\n",
              "    <tr>\n",
              "      <th>4</th>\n",
              "      <td>4</td>\n",
              "      <td>260000000</td>\n",
              "      <td>Action Adventure Science Fiction</td>\n",
              "      <td>http://movies.disney.com/john-carter</td>\n",
              "      <td>49529</td>\n",
              "      <td>based on novel mars medallion space travel pri...</td>\n",
              "      <td>en</td>\n",
              "      <td>John Carter</td>\n",
              "      <td>John Carter is a war-weary, former military ca...</td>\n",
              "      <td>43.926995</td>\n",
              "      <td>...</td>\n",
              "      <td>132.0</td>\n",
              "      <td>[{\"iso_639_1\": \"en\", \"name\": \"English\"}]</td>\n",
              "      <td>Released</td>\n",
              "      <td>Lost in our world, found in another.</td>\n",
              "      <td>John Carter</td>\n",
              "      <td>6.1</td>\n",
              "      <td>2124</td>\n",
              "      <td>Taylor Kitsch Lynn Collins Samantha Morton Wil...</td>\n",
              "      <td>[{'name': 'Andrew Stanton', 'gender': 2, 'depa...</td>\n",
              "      <td>Andrew Stanton</td>\n",
              "    </tr>\n",
              "  </tbody>\n",
              "</table>\n",
              "<p>5 rows × 24 columns</p>\n",
              "</div>\n",
              "      <button class=\"colab-df-convert\" onclick=\"convertToInteractive('df-22e6c353-9224-45a0-8645-29236478931f')\"\n",
              "              title=\"Convert this dataframe to an interactive table.\"\n",
              "              style=\"display:none;\">\n",
              "        \n",
              "  <svg xmlns=\"http://www.w3.org/2000/svg\" height=\"24px\"viewBox=\"0 0 24 24\"\n",
              "       width=\"24px\">\n",
              "    <path d=\"M0 0h24v24H0V0z\" fill=\"none\"/>\n",
              "    <path d=\"M18.56 5.44l.94 2.06.94-2.06 2.06-.94-2.06-.94-.94-2.06-.94 2.06-2.06.94zm-11 1L8.5 8.5l.94-2.06 2.06-.94-2.06-.94L8.5 2.5l-.94 2.06-2.06.94zm10 10l.94 2.06.94-2.06 2.06-.94-2.06-.94-.94-2.06-.94 2.06-2.06.94z\"/><path d=\"M17.41 7.96l-1.37-1.37c-.4-.4-.92-.59-1.43-.59-.52 0-1.04.2-1.43.59L10.3 9.45l-7.72 7.72c-.78.78-.78 2.05 0 2.83L4 21.41c.39.39.9.59 1.41.59.51 0 1.02-.2 1.41-.59l7.78-7.78 2.81-2.81c.8-.78.8-2.07 0-2.86zM5.41 20L4 18.59l7.72-7.72 1.47 1.35L5.41 20z\"/>\n",
              "  </svg>\n",
              "      </button>\n",
              "      \n",
              "  <style>\n",
              "    .colab-df-container {\n",
              "      display:flex;\n",
              "      flex-wrap:wrap;\n",
              "      gap: 12px;\n",
              "    }\n",
              "\n",
              "    .colab-df-convert {\n",
              "      background-color: #E8F0FE;\n",
              "      border: none;\n",
              "      border-radius: 50%;\n",
              "      cursor: pointer;\n",
              "      display: none;\n",
              "      fill: #1967D2;\n",
              "      height: 32px;\n",
              "      padding: 0 0 0 0;\n",
              "      width: 32px;\n",
              "    }\n",
              "\n",
              "    .colab-df-convert:hover {\n",
              "      background-color: #E2EBFA;\n",
              "      box-shadow: 0px 1px 2px rgba(60, 64, 67, 0.3), 0px 1px 3px 1px rgba(60, 64, 67, 0.15);\n",
              "      fill: #174EA6;\n",
              "    }\n",
              "\n",
              "    [theme=dark] .colab-df-convert {\n",
              "      background-color: #3B4455;\n",
              "      fill: #D2E3FC;\n",
              "    }\n",
              "\n",
              "    [theme=dark] .colab-df-convert:hover {\n",
              "      background-color: #434B5C;\n",
              "      box-shadow: 0px 1px 3px 1px rgba(0, 0, 0, 0.15);\n",
              "      filter: drop-shadow(0px 1px 2px rgba(0, 0, 0, 0.3));\n",
              "      fill: #FFFFFF;\n",
              "    }\n",
              "  </style>\n",
              "\n",
              "      <script>\n",
              "        const buttonEl =\n",
              "          document.querySelector('#df-22e6c353-9224-45a0-8645-29236478931f button.colab-df-convert');\n",
              "        buttonEl.style.display =\n",
              "          google.colab.kernel.accessAllowed ? 'block' : 'none';\n",
              "\n",
              "        async function convertToInteractive(key) {\n",
              "          const element = document.querySelector('#df-22e6c353-9224-45a0-8645-29236478931f');\n",
              "          const dataTable =\n",
              "            await google.colab.kernel.invokeFunction('convertToInteractive',\n",
              "                                                     [key], {});\n",
              "          if (!dataTable) return;\n",
              "\n",
              "          const docLinkHtml = 'Like what you see? Visit the ' +\n",
              "            '<a target=\"_blank\" href=https://colab.research.google.com/notebooks/data_table.ipynb>data table notebook</a>'\n",
              "            + ' to learn more about interactive tables.';\n",
              "          element.innerHTML = '';\n",
              "          dataTable['output_type'] = 'display_data';\n",
              "          await google.colab.output.renderOutput(dataTable, element);\n",
              "          const docLink = document.createElement('div');\n",
              "          docLink.innerHTML = docLinkHtml;\n",
              "          element.appendChild(docLink);\n",
              "        }\n",
              "      </script>\n",
              "    </div>\n",
              "  </div>\n",
              "  "
            ]
          },
          "metadata": {},
          "execution_count": 131
        }
      ]
    },
    {
      "cell_type": "code",
      "source": [
        "#selecting features for recommendation\n",
        "rec_features = ['genres', 'keywords', 'popularity', 'vote_average', 'cast', 'director', 'budget']"
      ],
      "metadata": {
        "id": "yuRMCo0MVlQV"
      },
      "execution_count": 61,
      "outputs": []
    },
    {
      "cell_type": "code",
      "source": [
        "#replacing null values\n",
        "\n",
        "for feature in rec_features:\n",
        "  movies[feature] = movies[feature].fillna('')"
      ],
      "metadata": {
        "id": "au--mC3cVK_N"
      },
      "execution_count": 62,
      "outputs": []
    },
    {
      "cell_type": "code",
      "source": [
        "#combine all the selected features\n",
        "all_features = movies['genres']+' '+movies['keywords']+' '+movies['popularity']+' '+movies['cast']+' '+movies['director']+' '+movies['budget']+' '+movies['vote_average']\n",
        "all_features"
      ],
      "metadata": {
        "colab": {
          "base_uri": "https://localhost:8080/"
        },
        "id": "r0EaKYIlVK0E",
        "outputId": "787d7e19-b277-4e69-be7b-fded00cd3b41"
      },
      "execution_count": 63,
      "outputs": [
        {
          "output_type": "execute_result",
          "data": {
            "text/plain": [
              "0       Action Adventure Fantasy Science Fiction cultu...\n",
              "1       Adventure Fantasy Action ocean drug abuse exot...\n",
              "2       Action Adventure Crime spy based on novel secr...\n",
              "3       Action Crime Drama Thriller dc comics crime fi...\n",
              "4       Action Adventure Science Fiction based on nove...\n",
              "                              ...                        \n",
              "4798    Action Crime Thriller united states\\u2013mexic...\n",
              "4799    Comedy Romance nan 0.642552 Edward Burns Kerry...\n",
              "4800    Comedy Drama Romance TV Movie date love at fir...\n",
              "4801    nan nan 0.857008 Daniel Henney Eliza Coupe Bil...\n",
              "4802    Documentary obsession camcorder crush dream gi...\n",
              "Length: 4803, dtype: object"
            ]
          },
          "metadata": {},
          "execution_count": 63
        }
      ]
    },
    {
      "cell_type": "code",
      "source": [
        "#Turn the text data into a matrix\n",
        "vector = TfidfVectorizer(ngram_range =(1,2))\n",
        "vector_features = vector.fit_transform(all_features)"
      ],
      "metadata": {
        "id": "s8bZtTRzVKns"
      },
      "execution_count": 64,
      "outputs": []
    },
    {
      "cell_type": "code",
      "source": [
        "#get the similarity scores using the cosine similarity\n",
        "similarity = cosine_similarity(vector_features)"
      ],
      "metadata": {
        "id": "ohn7zY1CVKPr"
      },
      "execution_count": 65,
      "outputs": []
    },
    {
      "cell_type": "code",
      "source": [
        "print(similarity)"
      ],
      "metadata": {
        "colab": {
          "base_uri": "https://localhost:8080/"
        },
        "id": "pv-_obabfzGF",
        "outputId": "79ebaf19-8e32-45fd-a7b0-f6313402407d"
      },
      "execution_count": 66,
      "outputs": [
        {
          "output_type": "stream",
          "name": "stdout",
          "text": [
            "[[1.         0.01720569 0.01933351 ... 0.         0.         0.        ]\n",
            " [0.01720569 1.         0.00487701 ... 0.00581752 0.         0.        ]\n",
            " [0.01933351 0.00487701 1.         ... 0.         0.02231449 0.        ]\n",
            " ...\n",
            " [0.         0.00581752 0.         ... 1.         0.         0.00957057]\n",
            " [0.         0.         0.02231449 ... 0.         1.         0.        ]\n",
            " [0.         0.         0.         ... 0.00957057 0.         1.        ]]\n"
          ]
        }
      ]
    },
    {
      "cell_type": "code",
      "source": [
        "#get list of all movie titles\n",
        "title_list = movies['title'].tolist()\n"
      ],
      "metadata": {
        "id": "K6aMWNa3eH8B"
      },
      "execution_count": 67,
      "outputs": []
    },
    {
      "cell_type": "code",
      "source": [
        "\n",
        "#Ask user for input\n",
        "movie_title = input('My favorite movie is : ').strip()\n"
      ],
      "metadata": {
        "colab": {
          "base_uri": "https://localhost:8080/"
        },
        "id": "iBghxCtjdlpS",
        "outputId": "1c7eb0e1-7609-4e4b-f938-4304f137c13f"
      },
      "execution_count": 143,
      "outputs": [
        {
          "name": "stdout",
          "output_type": "stream",
          "text": [
            "My favorite movie is : A space odyssey\n"
          ]
        }
      ]
    },
    {
      "cell_type": "code",
      "metadata": {
        "colab": {
          "base_uri": "https://localhost:8080/"
        },
        "id": "u1HTkBLIOBjf",
        "outputId": "01e54b7d-9daa-439e-8b88-9de7b9d9b19b"
      },
      "source": [
        "# finding the close match for the movie name given by the user\n",
        "try:\n",
        "  close_match = difflib.get_close_matches(movie_title, title_list)\n",
        "  print(close_match)\n",
        "  closest_match = close_match[0]\n",
        "  print(closest_match)\n",
        "except(IndexError):\n",
        "  print(\"Movie not in list\")"
      ],
      "execution_count": 144,
      "outputs": [
        {
          "output_type": "stream",
          "name": "stdout",
          "text": [
            "['2001: A Space Odyssey']\n",
            "2001: A Space Odyssey\n"
          ]
        }
      ]
    },
    {
      "cell_type": "code",
      "source": [
        "#get index of the movie\n",
        "index_of_movie = movies[movies.title == closest_match]['index'].values[0]\n",
        "print(index_of_movie)"
      ],
      "metadata": {
        "colab": {
          "base_uri": "https://localhost:8080/"
        },
        "id": "sJcBPKlr67ez",
        "outputId": "2c612e76-08fe-43d3-e88a-31f6d9dfe38a"
      },
      "execution_count": 145,
      "outputs": [
        {
          "output_type": "stream",
          "name": "stdout",
          "text": [
            "2966\n"
          ]
        }
      ]
    },
    {
      "cell_type": "code",
      "source": [
        "#get similarity scores of all the other movies\n",
        "similarity_score = list(enumerate(similarity[index_of_movie]))\n",
        "print(similarity_score)"
      ],
      "metadata": {
        "colab": {
          "base_uri": "https://localhost:8080/"
        },
        "id": "zicL3NT5fib3",
        "outputId": "dcd62201-875a-4266-bd05-c8d47e6edf4a"
      },
      "execution_count": 146,
      "outputs": [
        {
          "output_type": "stream",
          "name": "stdout",
          "text": [
            "[(0, 0.013860380104852741), (1, 0.0025944465041627647), (2, 0.011730363101975635), (3, 0.00926201102736028), (4, 0.014247086806723267), (5, 0.0028554487848699603), (6, 0.0), (7, 0.014161221178716883), (8, 0.011707805405297676), (9, 0.0028748053349647654), (10, 0.01443260295756776), (11, 0.011501317869657772), (12, 0.0028918447513229897), (13, 0.009790626647168954), (14, 0.014187085422895747), (15, 0.009746618910990396), (16, 0.014101402514902385), (17, 0.0028830734777839898), (18, 0.024608948392601783), (19, 0.0029319263198808497), (20, 0.0028301037231569224), (21, 0.009929724162579992), (22, 0.003053834189454023), (23, 0.011916096774169913), (24, 0.0027864903897012933), (25, 0.0), (26, 0.014538565769182154), (27, 0.013425372239108932), (28, 0.013993220476568431), (29, 0.01187415744309021), (30, 0.0028591691280410573), (31, 0.014248832420972466), (32, 0.0028079080902142185), (33, 0.014433614883813565), (34, 0.0), (35, 0.014764838900080535), (36, 0.027984765185815594), (37, 0.003085946250877748), (38, 0.0029052502448697437), (39, 0.051932263402916366), (40, 0.002895248550018037), (41, 0.014512402858872328), (42, 0.0), (43, 0.06484048788738428), (44, 0.0), (45, 0.010507055819118948), (46, 0.014188004452990944), (47, 0.015164615264186405), (48, 0.015186265019026795), (49, 0.0), (50, 0.002800533163863411), (51, 0.013236651686120555), (52, 0.05555544934094865), (53, 0.002948682953225165), (54, 0.002708567128125124), (55, 0.0028924922924255473), (56, 0.014759893248943485), (57, 0.0), (58, 0.0), (59, 0.013651807165274638), (60, 0.008956579164084313), (61, 0.05045374951913723), (62, 0.0028473577985068865), (63, 0.009873230348554562), (64, 0.011477664712879497), (65, 0.0), (66, 0.002548749347410372), (67, 0.015452320977898705), (68, 0.014067518432803721), (69, 0.0028367061225094284), (70, 0.013868753025438385), (71, 0.003497320427864074), (72, 0.0133855665769706), (73, 0.0), (74, 0.011286560278646466), (75, 0.0029809345218185577), (76, 0.029900664325401574), (77, 0.0), (78, 0.002954745909327889), (79, 0.01439097347581833), (80, 0.0029948744842056897), (81, 0.002501819129774594), (82, 0.020865607325680963), (83, 0.015557041130197695), (84, 0.0026475144141172775), (85, 0.01510359774764629), (86, 0.003283280692014144), (87, 0.018735592857250304), (88, 0.011474563939983234), (89, 0.0027722308788777185), (90, 0.002848084304410588), (91, 0.015221323224769474), (92, 0.00297956877502898), (93, 0.14613610033929236), (94, 0.014118269060378438), (95, 0.05427139205272518), (96, 0.0551756758494577), (97, 0.012968164718542115), (98, 0.0029505250944157615), (99, 0.0), (100, 0.004974585469496813), (101, 0.015756088933559616), (102, 0.014382758617748879), (103, 0.0030079374206819277), (104, 0.002864443056704395), (105, 0.0), (106, 0.002962450459242504), (107, 0.002961795419609979), (108, 0.05312873304222869), (109, 0.02770010902255191), (110, 0.0), (111, 0.014500885880366413), (112, 0.0028968593279158636), (113, 0.016406147965267952), (114, 0.011198695305438138), (115, 0.0), (116, 0.01013011733913264), (117, 0.0029080433444159033), (118, 0.0), (119, 0.009260787754786339), (120, 0.0), (121, 0.002882963250821009), (122, 0.015242841748885488), (123, 0.15073551674987123), (124, 0.0028531131683752578), (125, 0.1443214016984848), (126, 0.0027683994299971706), (127, 0.014377570082820621), (128, 0.004899250524440799), (129, 0.026052674593265455), (130, 0.018808494767515727), (131, 0.00317858315095536), (132, 0.002870592898600581), (133, 0.0), (134, 0.0030433768345931598), (135, 0.0), (136, 0.0027150649594110173), (137, 0.009269626528334182), (138, 0.0028433925657717213), (139, 0.0030106053548978194), (140, 0.0), (141, 0.002898003457033037), (142, 0.0030251444771128323), (143, 0.002916886312961883), (144, 0.014631288830828575), (145, 0.0028957767070504556), (146, 0.0), (147, 0.0026287458196701647), (148, 0.0), (149, 0.029463800994855134), (150, 0.01358621580500983), (151, 0.0027943016599163628), (152, 0.0029255765118757875), (153, 0.0029382579991749716), (154, 0.0), (155, 0.0), (156, 0.0070054341416984954), (157, 0.0030088948986013065), (158, 0.01456500223802914), (159, 0.0), (160, 0.0028708890980773697), (161, 0.0), (162, 0.04562627826486661), (163, 0.015329686893947697), (164, 0.0030772283681226977), (165, 0.011976034271169611), (166, 0.030610357270885007), (167, 0.016280046671824425), (168, 0.01353598337686214), (169, 0.014168006262022633), (170, 0.002885697829924854), (171, 0.002905627394761325), (172, 0.002909761780010477), (173, 0.0), (174, 0.020466711983087284), (175, 0.002877197296397006), (176, 0.0027420234425270225), (177, 0.0), (178, 0.002868326752831532), (179, 0.003084171522374889), (180, 0.005207422931700895), (181, 0.0029540007929747133), (182, 0.025380706210408083), (183, 0.015093810708966315), (184, 0.011588146703719576), (185, 0.0139683927781686), (186, 0.002787788785253062), (187, 0.006241118431444092), (188, 0.01376758337664808), (189, 0.003183647206950049), (190, 0.01645874419395882), (191, 0.020124353890484427), (192, 0.0), (193, 0.01588234257217751), (194, 0.0), (195, 0.0028209133429575755), (196, 0.011507309627292347), (197, 0.011753284566698585), (198, 0.0), (199, 0.0027144371253922006), (200, 0.015099312710012884), (201, 0.005030625562208105), (202, 0.002887054965960997), (203, 0.014948763743296237), (204, 0.0), (205, 0.007882011090239935), (206, 0.002864405026435281), (207, 0.014107204690345418), (208, 0.011323022295624461), (209, 0.0), (210, 0.0), (211, 0.0), (212, 0.013435470390098438), (213, 0.003089178571389012), (214, 0.00750367525473432), (215, 0.003005547494708476), (216, 0.00281066704509504), (217, 0.0), (218, 0.0), (219, 0.0032633812089796098), (220, 0.01879358362021665), (221, 0.003008730163922624), (222, 0.011696843531333417), (223, 0.010650353577691344), (224, 0.02075026255024846), (225, 0.01150036767741856), (226, 0.0), (227, 0.0), (228, 0.018785915267446638), (229, 0.014316582473921174), (230, 0.014821138920013452), (231, 0.0), (232, 0.013983817657542296), (233, 0.014795135414269755), (234, 0.00291121232111402), (235, 0.0026606389861826554), (236, 0.0), (237, 0.002875984529362604), (238, 0.02157069359504783), (239, 0.010313727725714074), (240, 0.002872886774486477), (241, 0.0028228633879728306), (242, 0.014557092674343677), (243, 0.0028089879521414566), (244, 0.0), (245, 0.0029206531967291395), (246, 0.0), (247, 0.0), (248, 0.0), (249, 0.01439256290264583), (250, 0.0), (251, 0.0), (252, 0.0), (253, 0.0), (254, 0.03119847195082411), (255, 0.0), (256, 0.03723137113352728), (257, 0.011481635226919876), (258, 0.0), (259, 0.002936590069067592), (260, 0.013891681384006814), (261, 0.0), (262, 0.0029338445884109525), (263, 0.002858388808884695), (264, 0.0), (265, 0.0), (266, 0.15344373680396436), (267, 0.002755239252017265), (268, 0.0), (269, 0.0), (270, 0.014653724623467947), (271, 0.014484979305423277), (272, 0.0), (273, 0.0), (274, 0.0029591314175830877), (275, 0.03171160784255981), (276, 0.011670263023320207), (277, 0.012193619331452295), (278, 0.013818148167394425), (279, 0.011597435059672381), (280, 0.0), (281, 0.0), (282, 0.0), (283, 0.0), (284, 0.0), (285, 0.0), (286, 0.00515531520393691), (287, 0.0), (288, 0.009255531007171894), (289, 0.0027423327646405073), (290, 0.016495763111106593), (291, 0.007526672473554935), (292, 0.002741221123876084), (293, 0.0), (294, 0.0031439664578850213), (295, 0.0), (296, 0.0048469259562845275), (297, 0.0), (298, 0.0), (299, 0.0), (300, 0.03779932877380466), (301, 0.011675690490560869), (302, 0.0031081379060400732), (303, 0.0), (304, 0.0029275837493939107), (305, 0.0136699063526645), (306, 0.014445205840866318), (307, 0.017254512490148435), (308, 0.0), (309, 0.0030834001732134037), (310, 0.003022335563339285), (311, 0.027153970291801947), (312, 0.0028877690405267973), (313, 0.0), (314, 0.0053372567911734664), (315, 0.0030688596052393176), (316, 0.008807429321475565), (317, 0.0), (318, 0.0), (319, 0.012736549751322736), (320, 0.007360783698108812), (321, 0.0), (322, 0.02410115579977468), (323, 0.0), (324, 0.002985279886096832), (325, 0.009130069745540762), (326, 0.0), (327, 0.015472928870759498), (328, 0.0), (329, 0.002906541670193304), (330, 0.002905019054380758), (331, 0.0027464223059097616), (332, 0.011022633962004737), (333, 0.06802986356993464), (334, 0.021892323013728114), (335, 0.022565500445834413), (336, 0.0026665629568726913), (337, 0.0), (338, 0.0), (339, 0.003026845162995813), (340, 0.002955998406845415), (341, 0.0027550160108651862), (342, 0.013802775996612162), (343, 0.0), (344, 0.0), (345, 0.0), (346, 0.0047841143329078436), (347, 0.004317286620296937), (348, 0.002942636160193647), (349, 0.002918561022528645), (350, 0.0031550927572960444), (351, 0.0), (352, 0.0028265159282585793), (353, 0.0), (354, 0.014050006490609585), (355, 0.0), (356, 0.007758808682957734), (357, 0.0), (358, 0.022748434728104408), (359, 0.0029578974560935836), (360, 0.0), (361, 0.0), (362, 0.011377866361165171), (363, 0.05443173591360073), (364, 0.004530934683713318), (365, 0.047260815402140534), (366, 0.02490793995221846), (367, 0.0), (368, 0.013538882605867806), (369, 0.002767375644736372), (370, 0.008029605745928672), (371, 0.013519013241475617), (372, 0.0), (373, 0.020538830189883672), (374, 0.002988374130870298), (375, 0.01190073345625501), (376, 0.011086074238894407), (377, 0.0), (378, 0.0), (379, 0.0027203235281126914), (380, 0.0), (381, 0.0), (382, 0.009142668843731494), (383, 0.002813247408251049), (384, 0.0029058704250870195), (385, 0.0), (386, 0.0), (387, 0.01749733612222868), (388, 0.0), (389, 0.0064308831877496146), (390, 0.0), (391, 0.0), (392, 0.008319638161154498), (393, 0.0), (394, 0.0), (395, 0.0), (396, 0.0), (397, 0.0), (398, 0.0), (399, 0.011934039839504553), (400, 0.013884585693468135), (401, 0.0), (402, 0.010138472446491048), (403, 0.002713058888163545), (404, 0.0), (405, 0.0), (406, 0.0), (407, 0.004398969649276052), (408, 0.0), (409, 0.0), (410, 0.013546267259709772), (411, 0.0025495553526255006), (412, 0.027063891837919546), (413, 0.01110404758052723), (414, 0.02765426327217536), (415, 0.011706349661518189), (416, 0.0), (417, 0.0), (418, 0.0), (419, 0.014610218689576704), (420, 0.01409475508553168), (421, 0.00513628064330228), (422, 0.011723420481022298), (423, 0.014331206262787515), (424, 0.03007771456646774), (425, 0.003064552620242841), (426, 0.022617442329262202), (427, 0.0), (428, 0.0), (429, 0.006940862060715716), (430, 0.013453614845106642), (431, 0.009187901091471357), (432, 0.0), (433, 0.0), (434, 0.0), (435, 0.0), (436, 0.0), (437, 0.0), (438, 0.0), (439, 0.00505184937579057), (440, 0.0), (441, 0.022742249791694872), (442, 0.010601557755468876), (443, 0.0), (444, 0.0), (445, 0.0), (446, 0.0), (447, 0.06278440172284555), (448, 0.0), (449, 0.021278926091104544), (450, 0.011256118314739107), (451, 0.004775848609989667), (452, 0.0), (453, 0.00503759575804953), (454, 0.026568254346471094), (455, 0.0052054852170503605), (456, 0.0), (457, 0.003179350482828004), (458, 0.0029588523500126704), (459, 0.01107775979330036), (460, 0.013705800210939742), (461, 0.03141916701769457), (462, 0.004973732398036925), (463, 0.0), (464, 0.015537857352142047), (465, 0.0), (466, 0.03257576531945518), (467, 0.0032836658614790112), (468, 0.0), (469, 0.00277807850871174), (470, 0.0), (471, 0.0), (472, 0.0029570669759977413), (473, 0.011256036870855378), (474, 0.004729340753894647), (475, 0.003093658461819617), (476, 0.013107075862887388), (477, 0.0), (478, 0.0172966821573363), (479, 0.0032657499544477826), (480, 0.011485084859292257), (481, 0.0), (482, 0.008137860685086621), (483, 0.013702271877803407), (484, 0.002992672542858954), (485, 0.002781932153294454), (486, 0.0027958600314113326), (487, 0.015490661138006505), (488, 0.002701136682063454), (489, 0.0), (490, 0.014476491420232865), (491, 0.0026504376343859837), (492, 0.0), (493, 0.012669344662863003), (494, 0.0), (495, 0.014091595246822538), (496, 0.0), (497, 0.0), (498, 0.0028736687917096993), (499, 0.0), (500, 0.0), (501, 0.00614134741193973), (502, 0.019882698117488443), (503, 0.005321689223345666), (504, 0.0), (505, 0.021517230272468546), (506, 0.0), (507, 0.014760716114179619), (508, 0.014777827195147288), (509, 0.0), (510, 0.011217637551570504), (511, 0.015109941120355096), (512, 0.0), (513, 0.0029591942271779393), (514, 0.009407741564384408), (515, 0.0), (516, 0.0), (517, 0.004869909779342321), (518, 0.003345006192463627), (519, 0.0), (520, 0.0), (521, 0.014754110453914717), (522, 0.0), (523, 0.0030094271630026286), (524, 0.0), (525, 0.0), (526, 0.0), (527, 0.008142971644832088), (528, 0.008727528028867837), (529, 0.0), (530, 0.0), (531, 0.0027517427595340257), (532, 0.0), (533, 0.0), (534, 0.00832353877422487), (535, 0.0026996006864623795), (536, 0.0), (537, 0.0), (538, 0.004643268388712565), (539, 0.024356646561994204), (540, 0.003297765663835039), (541, 0.011246496698842543), (542, 0.011341674857623048), (543, 0.0028730527750038272), (544, 0.0029247454576923062), (545, 0.010838525482729448), (546, 0.0028721576292071276), (547, 0.0), (548, 0.01319742311417212), (549, 0.027269974064318504), (550, 0.0), (551, 0.0029510848249578565), (552, 0.0), (553, 0.0), (554, 0.008852840638839376), (555, 0.0), (556, 0.0), (557, 0.0), (558, 0.0), (559, 0.0), (560, 0.01365788671331576), (561, 0.002416646523720157), (562, 0.012447094815722332), (563, 0.0), (564, 0.033308670744817505), (565, 0.0030017291557813707), (566, 0.0026574840352266136), (567, 0.0), (568, 0.002822934756524428), (569, 0.002950196911957731), (570, 0.00886210839096067), (571, 0.0), (572, 0.0031196245739895205), (573, 0.007660314065528329), (574, 0.0), (575, 0.016899495531971984), (576, 0.004401699008450543), (577, 0.013767032815486855), (578, 0.0), (579, 0.0), (580, 0.0), (581, 0.013414599438487346), (582, 0.010693809323261796), (583, 0.0029658417009958216), (584, 0.0), (585, 0.0), (586, 0.0), (587, 0.01365302412753012), (588, 0.013826833492356668), (589, 0.008683021981876225), (590, 0.0), (591, 0.00301265809153725), (592, 0.0027888516379481194), (593, 0.0), (594, 0.00313511455538145), (595, 0.0026531265353459403), (596, 0.002924237438766436), (597, 0.0), (598, 0.0), (599, 0.0), (600, 0.01365706274012966), (601, 0.012355036763497187), (602, 0.003055176946915358), (603, 0.018664623352830943), (604, 0.002839689846173394), (605, 0.0), (606, 0.019295999391162586), (607, 0.018462434403228773), (608, 0.004644997493390487), (609, 0.03160934890133777), (610, 0.002693975752777273), (611, 0.0), (612, 0.003022640457092229), (613, 0.0), (614, 0.0), (615, 0.0), (616, 0.0), (617, 0.002894452184300089), (618, 0.021424507095409023), (619, 0.0), (620, 0.0), (621, 0.0), (622, 0.0), (623, 0.0), (624, 0.0), (625, 0.004802728101181716), (626, 0.03918384606477139), (627, 0.0024502426997664462), (628, 0.0), (629, 0.0), (630, 0.0), (631, 0.0027982731050042783), (632, 0.012944457399034711), (633, 0.00867286757884089), (634, 0.14746914797580987), (635, 0.024532691625589135), (636, 0.0), (637, 0.0), (638, 0.0), (639, 0.0), (640, 0.002936567576548664), (641, 0.0), (642, 0.0), (643, 0.0029746027600563905), (644, 0.016577225174616836), (645, 0.0030032925694720753), (646, 0.0), (647, 0.0), (648, 0.0), (649, 0.0), (650, 0.05854958889829476), (651, 0.0), (652, 0.01022225177336197), (653, 0.0), (654, 0.014293576475986), (655, 0.0), (656, 0.0), (657, 0.011736871821803777), (658, 0.010415777288022402), (659, 0.004901028117961635), (660, 0.003146797716908039), (661, 0.0172169362358437), (662, 0.0), (663, 0.0), (664, 0.0029274474077379937), (665, 0.0028431432020999178), (666, 0.0), (667, 0.0), (668, 0.0), (669, 0.0), (670, 0.0), (671, 0.0028585347810126715), (672, 0.0), (673, 0.011033913471946863), (674, 0.013309012712581555), (675, 0.014418411272914195), (676, 0.0), (677, 0.0), (678, 0.014031963744702274), (679, 0.0), (680, 0.0), (681, 0.010929642358330228), (682, 0.0), (683, 0.002584059698635006), (684, 0.0046533986731028265), (685, 0.0), (686, 0.0), (687, 0.002802726855544154), (688, 0.0), (689, 0.0), (690, 0.0), (691, 0.010202514196506685), (692, 0.0), (693, 0.00466773218046875), (694, 0.028576669534130374), (695, 0.0027623351642852133), (696, 0.005092205176818244), (697, 0.0), (698, 0.0029955472348124233), (699, 0.0), (700, 0.0), (701, 0.0), (702, 0.009549253503912865), (703, 0.0), (704, 0.003067266148770049), (705, 0.0), (706, 0.003126113114232431), (707, 0.0), (708, 0.0), (709, 0.0), (710, 0.015813758780475334), (711, 0.002842122016610342), (712, 0.0), (713, 0.0), (714, 0.0), (715, 0.003233359200692897), (716, 0.0), (717, 0.0), (718, 0.009976603914722361), (719, 0.0), (720, 0.01161427162659677), (721, 0.0030073733355059037), (722, 0.0), (723, 0.01133815363740786), (724, 0.0), (725, 0.0), (726, 0.0), (727, 0.0), (728, 0.010839038954968225), (729, 0.007519194073260803), (730, 0.0027171862419308208), (731, 0.003176257283476085), (732, 0.02021600630054036), (733, 0.0), (734, 0.0029316407751942366), (735, 0.02351098273777497), (736, 0.0), (737, 0.0), (738, 0.0), (739, 0.0), (740, 0.01169936980239477), (741, 0.004845246424715308), (742, 0.0), (743, 0.0), (744, 0.002799491147240579), (745, 0.007329961717031231), (746, 0.0027720828260169917), (747, 0.0), (748, 0.003041695411888954), (749, 0.0), (750, 0.0), (751, 0.0), (752, 0.011365300234603411), (753, 0.012943072569875777), (754, 0.02826097394434111), (755, 0.01475364204812855), (756, 0.0), (757, 0.0), (758, 0.005037172468988258), (759, 0.004563776134942073), (760, 0.0), (761, 0.0), (762, 0.0), (763, 0.0), (764, 0.0), (765, 0.0), (766, 0.0), (767, 0.007873126996456446), (768, 0.01141325528646338), (769, 0.0032565299857832846), (770, 0.034010955692242065), (771, 0.0), (772, 0.0), (773, 0.0031531092183834475), (774, 0.0), (775, 0.011741608697463862), (776, 0.01369918247457224), (777, 0.00753155924896926), (778, 0.014646999368822314), (779, 0.0), (780, 0.0), (781, 0.005778306279824994), (782, 0.011207970699168141), (783, 0.00287305686004368), (784, 0.002888700114954588), (785, 0.0029291580117815686), (786, 0.010685822646531012), (787, 0.0), (788, 0.0028313617992488517), (789, 0.0), (790, 0.0), (791, 0.003005734709969878), (792, 0.0), (793, 0.011199152124813183), (794, 0.015341989068859339), (795, 0.0), (796, 0.0), (797, 0.0), (798, 0.0), (799, 0.014278899895286268), (800, 0.0027924021548833802), (801, 0.004913497911862196), (802, 0.0), (803, 0.0), (804, 0.0), (805, 0.0), (806, 0.0), (807, 0.0), (808, 0.0028936377235120997), (809, 0.00898094870616682), (810, 0.0), (811, 0.0), (812, 0.0027731577722197504), (813, 0.013855979919565654), (814, 0.022465349722218864), (815, 0.0), (816, 0.0028747138111913186), (817, 0.006907398439784596), (818, 0.0), (819, 0.0), (820, 0.0), (821, 0.0), (822, 0.014454567024887227), (823, 0.0), (824, 0.0), (825, 0.004999956656642375), (826, 0.016581847593990954), (827, 0.0), (828, 0.0), (829, 0.0), (830, 0.0), (831, 0.017096090080918103), (832, 0.0), (833, 0.0028773408213760244), (834, 0.003115264290718723), (835, 0.0), (836, 0.0028951009964615806), (837, 0.0), (838, 0.01164068172440034), (839, 0.0), (840, 0.0028706558469812397), (841, 0.014738203579811633), (842, 0.0), (843, 0.0), (844, 0.007467096953830508), (845, 0.005177725889197007), (846, 0.0), (847, 0.0), (848, 0.0029776017272228708), (849, 0.00519355587133351), (850, 0.011156750917479256), (851, 0.004720884098198687), (852, 0.0), (853, 0.0), (854, 0.011023437914304577), (855, 0.0), (856, 0.0), (857, 0.0), (858, 0.003075943967098281), (859, 0.0025140806694574935), (860, 0.0), (861, 0.0), (862, 0.05498158018817396), (863, 0.014034085417794025), (864, 0.0), (865, 0.0), (866, 0.015427616063759683), (867, 0.0), (868, 0.0), (869, 0.01246033694001371), (870, 0.025312932875163865), (871, 0.0), (872, 0.0), (873, 0.0029121591294028488), (874, 0.008445864384349541), (875, 0.0), (876, 0.004890985107118759), (877, 0.0), (878, 0.0), (879, 0.008878229532179076), (880, 0.0), (881, 0.0), (882, 0.0), (883, 0.010121302895062792), (884, 0.0), (885, 0.0), (886, 0.0), (887, 0.0), (888, 0.010489094925385547), (889, 0.0), (890, 0.010801657315223529), (891, 0.0), (892, 0.0), (893, 0.0), (894, 0.007206071911238245), (895, 0.0), (896, 0.0), (897, 0.0), (898, 0.017599371728695967), (899, 0.0030177628113485914), (900, 0.011622263742637574), (901, 0.002929541430097332), (902, 0.0), (903, 0.0), (904, 0.0), (905, 0.0), (906, 0.0), (907, 0.0), (908, 0.033135609201267804), (909, 0.0), (910, 0.0), (911, 0.0), (912, 0.0), (913, 0.0), (914, 0.0), (915, 0.0), (916, 0.0), (917, 0.0), (918, 0.0), (919, 0.0), (920, 0.018992784599254638), (921, 0.0), (922, 0.018011471083887263), (923, 0.0), (924, 0.008901706689557998), (925, 0.0), (926, 0.0), (927, 0.0), (928, 0.0), (929, 0.011736582795382495), (930, 0.004586708752223277), (931, 0.014290921800676266), (932, 0.0), (933, 0.002908520764791428), (934, 0.002921797149168292), (935, 0.002934671074067163), (936, 0.02073641066065461), (937, 0.015897539479781148), (938, 0.0), (939, 0.013288190125822944), (940, 0.0), (941, 0.0), (942, 0.0027545901624966185), (943, 0.015658853308714384), (944, 0.0), (945, 0.0087974246505295), (946, 0.014872551504386981), (947, 0.004527265809406648), (948, 0.0), (949, 0.007362772186071811), (950, 0.017824488916286334), (951, 0.0), (952, 0.0), (953, 0.0), (954, 0.0), (955, 0.0), (956, 0.011493186051573779), (957, 0.0), (958, 0.0), (959, 0.0), (960, 0.015435113162867897), (961, 0.0027520149414022167), (962, 0.0), (963, 0.017873588925526603), (964, 0.0), (965, 0.0), (966, 0.0), (967, 0.0), (968, 0.0), (969, 0.017435464653389528), (970, 0.0), (971, 0.0), (972, 0.021174651382706695), (973, 0.004617753632080655), (974, 0.0046284368959515175), (975, 0.0), (976, 0.014294978773826395), (977, 0.012766628495714562), (978, 0.00293637247742292), (979, 0.009005258827068216), (980, 0.0), (981, 0.0), (982, 0.004840525547641892), (983, 0.004590954423878384), (984, 0.0030667059933087034), (985, 0.003003329797757797), (986, 0.0), (987, 0.013219462922497989), (988, 0.0), (989, 0.0029152302435412262), (990, 0.008739688578220134), (991, 0.0), (992, 0.0), (993, 0.01313863191936748), (994, 0.010829857235104337), (995, 0.0), (996, 0.0), (997, 0.0), (998, 0.009836714270321047), (999, 0.010999281826342473), (1000, 0.006930303768055552), (1001, 0.028397873943773504), (1002, 0.012991962864858922), (1003, 0.004390642026724715), (1004, 0.0), (1005, 0.010097470178505834), (1006, 0.0028556714000832015), (1007, 0.0), (1008, 0.04636424408064556), (1009, 0.0053263229526527255), (1010, 0.0), (1011, 0.0), (1012, 0.002953203839937975), (1013, 0.017964756044145415), (1014, 0.002948590017782681), (1015, 0.011877611524714273), (1016, 0.011374209483887048), (1017, 0.0), (1018, 0.0), (1019, 0.0), (1020, 0.0), (1021, 0.0), (1022, 0.0), (1023, 0.0), (1024, 0.0027325148225403064), (1025, 0.0), (1026, 0.0), (1027, 0.015916589518937617), (1028, 0.029651561367150407), (1029, 0.010430022944441193), (1030, 0.0), (1031, 0.0), (1032, 0.0), (1033, 0.005121339316195143), (1034, 0.013848239740465122), (1035, 0.0), (1036, 0.004731662350858889), (1037, 0.0), (1038, 0.009290090365584348), (1039, 0.0), (1040, 0.0), (1041, 0.0), (1042, 0.0), (1043, 0.007800643819119575), (1044, 0.013111370153446624), (1045, 0.0), (1046, 0.012580511765843346), (1047, 0.0044582140855547745), (1048, 0.0), (1049, 0.0), (1050, 0.0), (1051, 0.0), (1052, 0.0), (1053, 0.01162071110367936), (1054, 0.0), (1055, 0.0), (1056, 0.0), (1057, 0.0), (1058, 0.003054097569530288), (1059, 0.002910149924426195), (1060, 0.0), (1061, 0.0), (1062, 0.0028488673342818697), (1063, 0.004909617958922372), (1064, 0.014821272545501748), (1065, 0.009851591678025384), (1066, 0.0), (1067, 0.0), (1068, 0.01456205559220796), (1069, 0.0), (1070, 0.011736602065777896), (1071, 0.0), (1072, 0.003574590641856394), (1073, 0.0029293616190556137), (1074, 0.0027277155899354862), (1075, 0.0), (1076, 0.010848573721615065), (1077, 0.014904620337669879), (1078, 0.002886685977634587), (1079, 0.013941000295885625), (1080, 0.0028964659026926728), (1081, 0.0), (1082, 0.002654741301233337), (1083, 0.01465309471142955), (1084, 0.0028385126168478402), (1085, 0.010545172030841555), (1086, 0.01398288586227325), (1087, 0.0050935668805878), (1088, 0.009111455715022468), (1089, 0.002957118054024775), (1090, 0.0), (1091, 0.0), (1092, 0.0049669201051391046), (1093, 0.013682833980085922), (1094, 0.0), (1095, 0.0), (1096, 0.0), (1097, 0.0), (1098, 0.0), (1099, 0.0), (1100, 0.010967590733948991), (1101, 0.0), (1102, 0.0), (1103, 0.007804602375255566), (1104, 0.0), (1105, 0.0), (1106, 0.01565046470007682), (1107, 0.0), (1108, 0.0), (1109, 0.0), (1110, 0.01145445752552806), (1111, 0.01843258834417436), (1112, 0.0), (1113, 0.0), (1114, 0.0), (1115, 0.0), (1116, 0.004939133511071908), (1117, 0.0), (1118, 0.0), (1119, 0.0), (1120, 0.0), (1121, 0.014629604971081027), (1122, 0.0), (1123, 0.010439771841851476), (1124, 0.0), (1125, 0.0), (1126, 0.0), (1127, 0.005158218939456499), (1128, 0.0), (1129, 0.005018465123012409), (1130, 0.0), (1131, 0.0028124467707955968), (1132, 0.009073975412817369), (1133, 0.0), (1134, 0.0027544897416189717), (1135, 0.0), (1136, 0.002640390138012127), (1137, 0.008473826759387189), (1138, 0.0), (1139, 0.002876148971743741), (1140, 0.0), (1141, 0.0), (1142, 0.0027141242508394114), (1143, 0.002936584675186513), (1144, 0.0), (1145, 0.004592696452612188), (1146, 0.0), (1147, 0.0), (1148, 0.007213730041125001), (1149, 0.0), (1150, 0.0), (1151, 0.004612554133142734), (1152, 0.014256872779161633), (1153, 0.057695994019290764), (1154, 0.0), (1155, 0.040580754569496266), (1156, 0.0), (1157, 0.0), (1158, 0.0), (1159, 0.0), (1160, 0.0), (1161, 0.0), (1162, 0.0), (1163, 0.0), (1164, 0.004860236034750409), (1165, 0.014180206606290479), (1166, 0.0), (1167, 0.009559631033085741), (1168, 0.014727796098514791), (1169, 0.0), (1170, 0.0), (1171, 0.0), (1172, 0.017456016932383866), (1173, 0.0), (1174, 0.0), (1175, 0.01030797262798667), (1176, 0.0), (1177, 0.0), (1178, 0.007861462775234364), (1179, 0.0), (1180, 0.010073898866628472), (1181, 0.009225357240256058), (1182, 0.0), (1183, 0.0), (1184, 0.0), (1185, 0.0), (1186, 0.004245570463578484), (1187, 0.0), (1188, 0.0), (1189, 0.0), (1190, 0.015266226456750277), (1191, 0.013223324492088878), (1192, 0.013070045978432344), (1193, 0.002658840569213189), (1194, 0.007874090351998668), (1195, 0.004709420035273702), (1196, 0.005226185234483058), (1197, 0.0), (1198, 0.014150655136340094), (1199, 0.0026788259943313028), (1200, 0.0027182523592986204), (1201, 0.013056020581795159), (1202, 0.0), (1203, 0.005195359183891585), (1204, 0.004830644101155492), (1205, 0.005082110493040739), (1206, 0.0), (1207, 0.0), (1208, 0.0), (1209, 0.0), (1210, 0.0), (1211, 0.005026578173504548), (1212, 0.002806771547032033), (1213, 0.010643650906775185), (1214, 0.0), (1215, 0.0), (1216, 0.0), (1217, 0.012398433731896705), (1218, 0.0), (1219, 0.0052372962911942465), (1220, 0.004571458948295415), (1221, 0.0), (1222, 0.0), (1223, 0.0), (1224, 0.004314131228374376), (1225, 0.0), (1226, 0.0), (1227, 0.0), (1228, 0.0), (1229, 0.0), (1230, 0.014617049115014331), (1231, 0.0), (1232, 0.0), (1233, 0.0), (1234, 0.0028107238427050292), (1235, 0.0), (1236, 0.0), (1237, 0.0), (1238, 0.020759607327277413), (1239, 0.0029626722563620336), (1240, 0.0), (1241, 0.0), (1242, 0.0), (1243, 0.0), (1244, 0.0), (1245, 0.0), (1246, 0.00971688699751147), (1247, 0.005490714308695724), (1248, 0.0), (1249, 0.0), (1250, 0.0), (1251, 0.0), (1252, 0.0), (1253, 0.0), (1254, 0.013946811095986406), (1255, 0.0), (1256, 0.002958535199164054), (1257, 0.0030511471574811632), (1258, 0.0), (1259, 0.02608782446452643), (1260, 0.0), (1261, 0.022613824783497556), (1262, 0.0), (1263, 0.003163096182990498), (1264, 0.0054070156524038265), (1265, 0.007409474867857714), (1266, 0.002974651675968731), (1267, 0.0), (1268, 0.0), (1269, 0.0), (1270, 0.010486401742259305), (1271, 0.016524236334049192), (1272, 0.03357104211644217), (1273, 0.0033075247486438523), (1274, 0.010425505258402763), (1275, 0.011688903506591613), (1276, 0.0), (1277, 0.016309954781326567), (1278, 0.0), (1279, 0.01410366641607642), (1280, 0.005416610518294978), (1281, 0.0), (1282, 0.003239898128482183), (1283, 0.0), (1284, 0.0), (1285, 0.0), (1286, 0.010557178515984315), (1287, 0.0027743050218432186), (1288, 0.0), (1289, 0.0), (1290, 0.002659695913374887), (1291, 0.0), (1292, 0.0), (1293, 0.0), (1294, 0.014027689915423913), (1295, 0.0), (1296, 0.013057314719671052), (1297, 0.024791544331374437), (1298, 0.002499567588488632), (1299, 0.0), (1300, 0.0), (1301, 0.0), (1302, 0.003075948173515024), (1303, 0.013283385573366967), (1304, 0.0), (1305, 0.0), (1306, 0.0032151987426506457), (1307, 0.0), (1308, 0.0), (1309, 0.0), (1310, 0.0), (1311, 0.0), (1312, 0.0), (1313, 0.004575617717699808), (1314, 0.0), (1315, 0.0), (1316, 0.0), (1317, 0.0), (1318, 0.016012908438024904), (1319, 0.011403623798974794), (1320, 0.00821741534138348), (1321, 0.0), (1322, 0.005767017305996405), (1323, 0.0), (1324, 0.0032515939088735147), (1325, 0.009468492023159282), (1326, 0.013526513997319672), (1327, 0.012721258430497647), (1328, 0.0), (1329, 0.0), (1330, 0.0), (1331, 0.0028900149819317527), (1332, 0.00800381937554086), (1333, 0.007309145865775527), (1334, 0.007168020950893494), (1335, 0.0), (1336, 0.0), (1337, 0.0029771301281032794), (1338, 0.008547137279477897), (1339, 0.0), (1340, 0.0), (1341, 0.008009351141130695), (1342, 0.0), (1343, 0.0028592248214299684), (1344, 0.027641677373408016), (1345, 0.0), (1346, 0.009350609927262214), (1347, 0.008962109429695156), (1348, 0.0), (1349, 0.0), (1350, 0.0), (1351, 0.0), (1352, 0.03232641190923101), (1353, 0.0), (1354, 0.0), (1355, 0.0), (1356, 0.0), (1357, 0.0), (1358, 0.02951936525992644), (1359, 0.0), (1360, 0.0), (1361, 0.0026147395472187083), (1362, 0.0), (1363, 0.002772018621001829), (1364, 0.0), (1365, 0.0028391091404286906), (1366, 0.014350257147557857), (1367, 0.06492067966368212), (1368, 0.0), (1369, 0.0), (1370, 0.0), (1371, 0.0), (1372, 0.0), (1373, 0.0), (1374, 0.005215857231582287), (1375, 0.0029864897816166895), (1376, 0.0), (1377, 0.011693021907306152), (1378, 0.0), (1379, 0.010964804626007522), (1380, 0.0032518196356958015), (1381, 0.0), (1382, 0.002941306854035129), (1383, 0.0), (1384, 0.0), (1385, 0.0), (1386, 0.0), (1387, 0.0), (1388, 0.0), (1389, 0.0), (1390, 0.014523390706006643), (1391, 0.0), (1392, 0.0), (1393, 0.009044660687406388), (1394, 0.0), (1395, 0.01187758367209282), (1396, 0.0), (1397, 0.0), (1398, 0.0), (1399, 0.011451870214906169), (1400, 0.0), (1401, 0.0), (1402, 0.0029975031926724586), (1403, 0.0), (1404, 0.0023796437685869574), (1405, 0.0), (1406, 0.0), (1407, 0.0), (1408, 0.0), (1409, 0.0), (1410, 0.004824799120260612), (1411, 0.0), (1412, 0.03147251023454287), (1413, 0.0), (1414, 0.0), (1415, 0.010776004268690523), (1416, 0.0), (1417, 0.005569705099195288), (1418, 0.005363007867309158), (1419, 0.0), (1420, 0.0), (1421, 0.0), (1422, 0.03180341085640745), (1423, 0.0), (1424, 0.0), (1425, 0.005166040540496297), (1426, 0.013306215658129433), (1427, 0.01231049271692089), (1428, 0.011401170105220463), (1429, 0.0), (1430, 0.0), (1431, 0.0), (1432, 0.0), (1433, 0.0029867948715054313), (1434, 0.0), (1435, 0.0), (1436, 0.0), (1437, 0.0), (1438, 0.0027279170709962395), (1439, 0.0027485481681678208), (1440, 0.0030491522461313873), (1441, 0.0), (1442, 0.0), (1443, 0.0), (1444, 0.0), (1445, 0.004920223043127928), (1446, 0.0), (1447, 0.002891098288577584), (1448, 0.0), (1449, 0.004863338977410519), (1450, 0.0), (1451, 0.0), (1452, 0.002757222390397188), (1453, 0.0), (1454, 0.0), (1455, 0.0), (1456, 0.0), (1457, 0.00512121167684372), (1458, 0.0), (1459, 0.0), (1460, 0.0028153869611721653), (1461, 0.0), (1462, 0.0), (1463, 0.0), (1464, 0.0), (1465, 0.015226384449608166), (1466, 0.0), (1467, 0.009078236732335026), (1468, 0.013867075744670557), (1469, 0.010249689533887706), (1470, 0.0), (1471, 0.0), (1472, 0.0), (1473, 0.011319796534729277), (1474, 0.013520246514682921), (1475, 0.0), (1476, 0.0), (1477, 0.0), (1478, 0.0), (1479, 0.0), (1480, 0.0), (1481, 0.0028880592626162093), (1482, 0.010524057614799224), (1483, 0.0), (1484, 0.0), (1485, 0.004803617300794709), (1486, 0.0), (1487, 0.009040491443660563), (1488, 0.0), (1489, 0.0), (1490, 0.013302966490785072), (1491, 0.011187047500600907), (1492, 0.0), (1493, 0.0), (1494, 0.008572429207954051), (1495, 0.011097841570529964), (1496, 0.0028539232524303856), (1497, 0.0), (1498, 0.0), (1499, 0.0), (1500, 0.0), (1501, 0.0), (1502, 0.0), (1503, 0.0), (1504, 0.0), (1505, 0.0), (1506, 0.033862990441024705), (1507, 0.0028606863078659535), (1508, 0.005056346024802532), (1509, 0.0029944155028769756), (1510, 0.008963319942106857), (1511, 0.0), (1512, 0.007451484086203778), (1513, 0.0), (1514, 0.0), (1515, 0.0), (1516, 0.0), (1517, 0.02148345136013306), (1518, 0.0), (1519, 0.0), (1520, 0.0), (1521, 0.0), (1522, 0.0), (1523, 0.004745512835148701), (1524, 0.003164413532439929), (1525, 0.0), (1526, 0.0), (1527, 0.00769599354255294), (1528, 0.009310163936265804), (1529, 0.0), (1530, 0.0), (1531, 0.012792090548023723), (1532, 0.0), (1533, 0.004803274305274357), (1534, 0.0), (1535, 0.011799962652627578), (1536, 0.0), (1537, 0.0), (1538, 0.009489996462045392), (1539, 0.0), (1540, 0.00734059970556691), (1541, 0.0), (1542, 0.0028591582861008185), (1543, 0.0), (1544, 0.0), (1545, 0.0), (1546, 0.003023109390573432), (1547, 0.0), (1548, 0.0), (1549, 0.0), (1550, 0.002911642184232422), (1551, 0.0), (1552, 0.0), (1553, 0.0050184266194850495), (1554, 0.010787617532851594), (1555, 0.0), (1556, 0.0046476570403018985), (1557, 0.0), (1558, 0.0), (1559, 0.0), (1560, 0.0), (1561, 0.0), (1562, 0.0033692371197358473), (1563, 0.0), (1564, 0.0027676679869443836), (1565, 0.0), (1566, 0.0), (1567, 0.0), (1568, 0.011628603121744541), (1569, 0.014145568396813066), (1570, 0.0), (1571, 0.0), (1572, 0.0), (1573, 0.0), (1574, 0.0), (1575, 0.0), (1576, 0.009495035540342298), (1577, 0.003133040619109824), (1578, 0.008831395391231608), (1579, 0.0), (1580, 0.0033784200842308203), (1581, 0.0), (1582, 0.011020722848380564), (1583, 0.026418414224277546), (1584, 0.0), (1585, 0.0), (1586, 0.003045371212963469), (1587, 0.002855221931769731), (1588, 0.0), (1589, 0.0), (1590, 0.0), (1591, 0.00855908281206942), (1592, 0.011902776394868076), (1593, 0.0), (1594, 0.0), (1595, 0.0), (1596, 0.004961895849592727), (1597, 0.0), (1598, 0.0), (1599, 0.0), (1600, 0.0), (1601, 0.0), (1602, 0.0030880033252557028), (1603, 0.0), (1604, 0.0), (1605, 0.0), (1606, 0.0), (1607, 0.002587052129910389), (1608, 0.01039772716505109), (1609, 0.0), (1610, 0.0028643845749692157), (1611, 0.011057427820099448), (1612, 0.0), (1613, 0.0), (1614, 0.0), (1615, 0.002990709861226852), (1616, 0.011082999198902556), (1617, 0.09532931900050709), (1618, 0.0), (1619, 0.0), (1620, 0.0), (1621, 0.0), (1622, 0.0), (1623, 0.0), (1624, 0.00812782305289742), (1625, 0.05916405264279793), (1626, 0.0), (1627, 0.0), (1628, 0.01228354126238284), (1629, 0.0), (1630, 0.0), (1631, 0.0), (1632, 0.0), (1633, 0.011411444327928379), (1634, 0.0), (1635, 0.0), (1636, 0.0), (1637, 0.0), (1638, 0.0), (1639, 0.02218623458617955), (1640, 0.0), (1641, 0.0), (1642, 0.010299827710902012), (1643, 0.010941043492266172), (1644, 0.0), (1645, 0.0028659420449039783), (1646, 0.0), (1647, 0.004906086470669621), (1648, 0.0), (1649, 0.0), (1650, 0.010681794201374628), (1651, 0.0), (1652, 0.01412473124641341), (1653, 0.0), (1654, 0.01129975952240253), (1655, 0.0), (1656, 0.0), (1657, 0.0), (1658, 0.008308807679836395), (1659, 0.0), (1660, 0.0), (1661, 0.015340098721206476), (1662, 0.0), (1663, 0.0), (1664, 0.0), (1665, 0.0), (1666, 0.0), (1667, 0.0035345064544258886), (1668, 0.0), (1669, 0.0), (1670, 0.002761121512732702), (1671, 0.0), (1672, 0.0027529214042640456), (1673, 0.0), (1674, 0.0), (1675, 0.0), (1676, 0.0), (1677, 0.0), (1678, 0.0), (1679, 0.0), (1680, 0.002691644072153049), (1681, 0.0), (1682, 0.0030043440275274546), (1683, 0.0), (1684, 0.0), (1685, 0.0), (1686, 0.0027428186702789124), (1687, 0.0), (1688, 0.0), (1689, 0.0), (1690, 0.0), (1691, 0.0), (1692, 0.0), (1693, 0.0), (1694, 0.004794989461324196), (1695, 0.0029292872399969525), (1696, 0.008151167999734844), (1697, 0.002792696793951018), (1698, 0.0), (1699, 0.005027408565587734), (1700, 0.0), (1701, 0.0), (1702, 0.0), (1703, 0.0072294052539623194), (1704, 0.0), (1705, 0.0), (1706, 0.0), (1707, 0.0), (1708, 0.009517806905949982), (1709, 0.011867907554324616), (1710, 0.0), (1711, 0.00496600362969944), (1712, 0.011513050052855446), (1713, 0.002914924891702534), (1714, 0.0), (1715, 0.02158078172858923), (1716, 0.0), (1717, 0.0), (1718, 0.0), (1719, 0.0), (1720, 0.0), (1721, 0.005301925194428932), (1722, 0.0), (1723, 0.0), (1724, 0.0), (1725, 0.14783594475513312), (1726, 0.01366871645407863), (1727, 0.0), (1728, 0.0), (1729, 0.0), (1730, 0.0), (1731, 0.0), (1732, 0.0), (1733, 0.0), (1734, 0.0030420423168552664), (1735, 0.009811551226923345), (1736, 0.0), (1737, 0.011277489925962477), (1738, 0.0), (1739, 0.0), (1740, 0.002816751398804305), (1741, 0.0), (1742, 0.0), (1743, 0.013442728707167204), (1744, 0.0), (1745, 0.0), (1746, 0.0), (1747, 0.00296393217229543), (1748, 0.0), (1749, 0.0), (1750, 0.021235156209095888), (1751, 0.0), (1752, 0.01324610542047761), (1753, 0.0), (1754, 0.0027816640670018005), (1755, 0.0), (1756, 0.0), (1757, 0.011646152781108969), (1758, 0.005018050454265311), (1759, 0.0), (1760, 0.0), (1761, 0.0027748111624666017), (1762, 0.0248000437322531), (1763, 0.0), (1764, 0.003148753412752628), (1765, 0.0), (1766, 0.004586010647443562), (1767, 0.0), (1768, 0.0), (1769, 0.0), (1770, 0.0), (1771, 0.0), (1772, 0.0), (1773, 0.004600727367258441), (1774, 0.015935207608962144), (1775, 0.0), (1776, 0.0), (1777, 0.027887312467387043), (1778, 0.0), (1779, 0.0), (1780, 0.0), (1781, 0.0047427273773331296), (1782, 0.0), (1783, 0.009295813235078531), (1784, 0.0), (1785, 0.0), (1786, 0.018803893762036256), (1787, 0.0), (1788, 0.0), (1789, 0.005248763817666314), (1790, 0.002918910822733596), (1791, 0.0), (1792, 0.0), (1793, 0.0), (1794, 0.015051892856486292), (1795, 0.0), (1796, 0.0), (1797, 0.0), (1798, 0.0), (1799, 0.004922413033178512), (1800, 0.004733712621137097), (1801, 0.0), (1802, 0.010880971915618676), (1803, 0.0), (1804, 0.0), (1805, 0.005416765138379316), (1806, 0.0), (1807, 0.0029682535891615886), (1808, 0.03247994309497523), (1809, 0.004886163610723958), (1810, 0.0), (1811, 0.0), (1812, 0.0), (1813, 0.0), (1814, 0.0), (1815, 0.0), (1816, 0.0), (1817, 0.00805590389279981), (1818, 0.0), (1819, 0.0), (1820, 0.008668524126015372), (1821, 0.007687757587652761), (1822, 0.007375988164591623), (1823, 0.0), (1824, 0.009859142109144979), (1825, 0.0029112226057688307), (1826, 0.011518319100266166), (1827, 0.013655854744336678), (1828, 0.0), (1829, 0.0), (1830, 0.0), (1831, 0.0), (1832, 0.0), (1833, 0.0), (1834, 0.0), (1835, 0.0), (1836, 0.002804273796707966), (1837, 0.010327847902464396), (1838, 0.0), (1839, 0.004752064138742849), (1840, 0.0), (1841, 0.0029040469983150174), (1842, 0.0), (1843, 0.0), (1844, 0.0), (1845, 0.004986059604494918), (1846, 0.0), (1847, 0.0), (1848, 0.0), (1849, 0.0), (1850, 0.0), (1851, 0.0030600537840319107), (1852, 0.0), (1853, 0.0), (1854, 0.0028217363759458357), (1855, 0.008206566154665028), (1856, 0.0028254288690806235), (1857, 0.0), (1858, 0.01186132223839446), (1859, 0.0), (1860, 0.0), (1861, 0.0), (1862, 0.0), (1863, 0.0), (1864, 0.011299295813228985), (1865, 0.0), (1866, 0.0), (1867, 0.0), (1868, 0.01251476190910635), (1869, 0.0), (1870, 0.0), (1871, 0.0), (1872, 0.014085856758883233), (1873, 0.0), (1874, 0.0), (1875, 0.0), (1876, 0.0), (1877, 0.002678896226893241), (1878, 0.002711299646122801), (1879, 0.0), (1880, 0.0), (1881, 0.0), (1882, 0.0028979648133670827), (1883, 0.0), (1884, 0.0), (1885, 0.0), (1886, 0.0), (1887, 0.0), (1888, 0.0), (1889, 0.0), (1890, 0.0), (1891, 0.0), (1892, 0.0069191442685269675), (1893, 0.0), (1894, 0.0), (1895, 0.010746010829539774), (1896, 0.0), (1897, 0.0), (1898, 0.0), (1899, 0.0), (1900, 0.0), (1901, 0.0), (1902, 0.01199964741066775), (1903, 0.0), (1904, 0.0), (1905, 0.004960706426404828), (1906, 0.0), (1907, 0.0025686438901889944), (1908, 0.0), (1909, 0.0), (1910, 0.0), (1911, 0.0), (1912, 0.0), (1913, 0.0), (1914, 0.011137943627998673), (1915, 0.0), (1916, 0.0), (1917, 0.0), (1918, 0.008198553663377798), (1919, 0.0), (1920, 0.0), (1921, 0.0), (1922, 0.0), (1923, 0.0), (1924, 0.0052420224688307804), (1925, 0.0), (1926, 0.0), (1927, 0.0), (1928, 0.0), (1929, 0.0), (1930, 0.007679508432523217), (1931, 0.0030783654937141256), (1932, 0.01652840922736861), (1933, 0.0), (1934, 0.0), (1935, 0.0), (1936, 0.01149616322124317), (1937, 0.0), (1938, 0.015292335524805484), (1939, 0.0029700840246588527), (1940, 0.0), (1941, 0.005220063263957022), (1942, 0.0), (1943, 0.0), (1944, 0.0), (1945, 0.004378979281870916), (1946, 0.0), (1947, 0.0), (1948, 0.0), (1949, 0.0), (1950, 0.002302759874655763), (1951, 0.0), (1952, 0.0), (1953, 0.0030349585530124756), (1954, 0.0), (1955, 0.0), (1956, 0.0), (1957, 0.0), (1958, 0.0030782829353853177), (1959, 0.020274094710143655), (1960, 0.025613222088213906), (1961, 0.005214654866516148), (1962, 0.0), (1963, 0.0), (1964, 0.0), (1965, 0.0), (1966, 0.0), (1967, 0.0), (1968, 0.004837654548407263), (1969, 0.0), (1970, 0.0), (1971, 0.0), (1972, 0.0), (1973, 0.02245497297908003), (1974, 0.0), (1975, 0.0), (1976, 0.012304969977242713), (1977, 0.0026385110523226172), (1978, 0.0), (1979, 0.0), (1980, 0.010579920560028527), (1981, 0.0), (1982, 0.0), (1983, 0.0), (1984, 0.01459237610176914), (1985, 0.0), (1986, 0.0), (1987, 0.019253699204120595), (1988, 0.0), (1989, 0.0), (1990, 0.013938022369554926), (1991, 0.0), (1992, 0.0), (1993, 0.007051502812989852), (1994, 0.0), (1995, 0.010970824856784382), (1996, 0.01995410741806939), (1997, 0.05249642218354758), (1998, 0.004871050160801718), (1999, 0.006096933814047007), (2000, 0.0), (2001, 0.0), (2002, 0.0), (2003, 0.011024277557500309), (2004, 0.0), (2005, 0.0), (2006, 0.0), (2007, 0.0085294685187446), (2008, 0.004887130213611963), (2009, 0.0), (2010, 0.0), (2011, 0.0), (2012, 0.0), (2013, 0.0), (2014, 0.0), (2015, 0.010844061683056211), (2016, 0.0), (2017, 0.004493302745254807), (2018, 0.0), (2019, 0.0), (2020, 0.0), (2021, 0.0), (2022, 0.0), (2023, 0.0), (2024, 0.0), (2025, 0.0), (2026, 0.004720668075456111), (2027, 0.0), (2028, 0.0), (2029, 0.0), (2030, 0.0), (2031, 0.0), (2032, 0.0), (2033, 0.0), (2034, 0.0), (2035, 0.0), (2036, 0.0), (2037, 0.0), (2038, 0.0), (2039, 0.0), (2040, 0.008781810547771975), (2041, 0.005055799196519077), (2042, 0.0), (2043, 0.008548950849106653), (2044, 0.0), (2045, 0.0), (2046, 0.014068383524870528), (2047, 0.013784055525407325), (2048, 0.0), (2049, 0.0), (2050, 0.0), (2051, 0.0), (2052, 0.0), (2053, 0.00863071931279348), (2054, 0.0), (2055, 0.0), (2056, 0.00488962024069661), (2057, 0.010190231558899664), (2058, 0.0), (2059, 0.0), (2060, 0.0), (2061, 0.0047039158863564105), (2062, 0.0), (2063, 0.005169290774941535), (2064, 0.0025281924974681134), (2065, 0.0), (2066, 0.013982057258538287), (2067, 0.0), (2068, 0.0), (2069, 0.0028986148892117063), (2070, 0.0), (2071, 0.0), (2072, 0.0), (2073, 0.0), (2074, 0.0), (2075, 0.0), (2076, 0.011475556706491613), (2077, 0.0), (2078, 0.0), (2079, 0.0), (2080, 0.013957586128267183), (2081, 0.0), (2082, 0.0), (2083, 0.0), (2084, 0.011189058776590197), (2085, 0.002945776765995879), (2086, 0.011952245566089231), (2087, 0.02561971112538675), (2088, 0.0), (2089, 0.0), (2090, 0.0), (2091, 0.0), (2092, 0.0), (2093, 0.0), (2094, 0.008734551156049602), (2095, 0.0027709625177456), (2096, 0.0), (2097, 0.002796227818306248), (2098, 0.0), (2099, 0.0), (2100, 0.0), (2101, 0.0), (2102, 0.0), (2103, 0.0027145427109723087), (2104, 0.0), (2105, 0.0), (2106, 0.0), (2107, 0.0), (2108, 0.0), (2109, 0.0), (2110, 0.0), (2111, 0.0068434816560975055), (2112, 0.0), (2113, 0.0), (2114, 0.0032047827343919585), (2115, 0.0), (2116, 0.0028387925011821133), (2117, 0.004466643076151276), (2118, 0.004382456539613409), (2119, 0.0), (2120, 0.0044785015985386), (2121, 0.002824189025247882), (2122, 0.003547949410877749), (2123, 0.0), (2124, 0.0), (2125, 0.0), (2126, 0.011147724124584361), (2127, 0.02133754419110617), (2128, 0.0), (2129, 0.02273527254949277), (2130, 0.0), (2131, 0.0), (2132, 0.0), (2133, 0.0), (2134, 0.010556707330459927), (2135, 0.004842639284030746), (2136, 0.0026442192320273407), (2137, 0.0), (2138, 0.007233350243932541), (2139, 0.0), (2140, 0.0), (2141, 0.0), (2142, 0.0), (2143, 0.005078354359861551), (2144, 0.0), (2145, 0.004939692868513036), (2146, 0.005416130487559847), (2147, 0.0), (2148, 0.0), (2149, 0.017933958311408957), (2150, 0.0), (2151, 0.008659163892675384), (2152, 0.01176840314967594), (2153, 0.0), (2154, 0.0), (2155, 0.011448559848412225), (2156, 0.008083723105330565), (2157, 0.029535513738472078), (2158, 0.0), (2159, 0.0026666647992701084), (2160, 0.007019299744820254), (2161, 0.0030757191421994733), (2162, 0.0), (2163, 0.014142213233648417), (2164, 0.0), (2165, 0.009313270102397103), (2166, 0.011284030128479111), (2167, 0.043646567959136164), (2168, 0.0), (2169, 0.008686730475286394), (2170, 0.018294082144284296), (2171, 0.0), (2172, 0.0), (2173, 0.0), (2174, 0.0), (2175, 0.018024915835329714), (2176, 0.0), (2177, 0.0), (2178, 0.009761027712346118), (2179, 0.0), (2180, 0.004381511622550835), (2181, 0.0), (2182, 0.0), (2183, 0.0), (2184, 0.0), (2185, 0.0028041548074140316), (2186, 0.0), (2187, 0.0), (2188, 0.010689865770705437), (2189, 0.0), (2190, 0.0), (2191, 0.007018919794493647), (2192, 0.0), (2193, 0.005349451255169614), (2194, 0.008522114954859817), (2195, 0.0), (2196, 0.0), (2197, 0.0), (2198, 0.011210128908480717), (2199, 0.0), (2200, 0.0), (2201, 0.0), (2202, 0.0), (2203, 0.0), (2204, 0.0), (2205, 0.003452723140299667), (2206, 0.0), (2207, 0.002910659370073754), (2208, 0.004506197272284276), (2209, 0.0028690994373499084), (2210, 0.0), (2211, 0.0), (2212, 0.0), (2213, 0.0), (2214, 0.0), (2215, 0.0), (2216, 0.0), (2217, 0.0), (2218, 0.0), (2219, 0.0), (2220, 0.0), (2221, 0.0), (2222, 0.0), (2223, 0.0), (2224, 0.0), (2225, 0.004710458702810893), (2226, 0.020805614059842045), (2227, 0.0), (2228, 0.0), (2229, 0.0), (2230, 0.0), (2231, 0.0), (2232, 0.0), (2233, 0.0), (2234, 0.0), (2235, 0.011842185465306493), (2236, 0.0), (2237, 0.0), (2238, 0.0), (2239, 0.004962134439709001), (2240, 0.0), (2241, 0.0), (2242, 0.0), (2243, 0.0), (2244, 0.0), (2245, 0.014809463283045422), (2246, 0.011458019678081733), (2247, 0.002605587505747794), (2248, 0.0), (2249, 0.0), (2250, 0.003036577272971596), (2251, 0.0), (2252, 0.0), (2253, 0.01131230486134761), (2254, 0.0), (2255, 0.0), (2256, 0.0), (2257, 0.0), (2258, 0.010628197291131241), (2259, 0.0), (2260, 0.004726512571054433), (2261, 0.0027660109575801954), (2262, 0.010275798719655227), (2263, 0.0), (2264, 0.016234223581269976), (2265, 0.008726274191407922), (2266, 0.0), (2267, 0.005247381320001032), (2268, 0.009382752483461787), (2269, 0.010970193733494022), (2270, 0.0030936953035536766), (2271, 0.0), (2272, 0.0), (2273, 0.0), (2274, 0.0), (2275, 0.010552999525633084), (2276, 0.0), (2277, 0.0), (2278, 0.0026171087606613264), (2279, 0.0), (2280, 0.01311795208646052), (2281, 0.0), (2282, 0.005044040080022932), (2283, 0.0), (2284, 0.05722549754534628), (2285, 0.014329896248131717), (2286, 0.013527540472783917), (2287, 0.0), (2288, 0.0), (2289, 0.0), (2290, 0.0), (2291, 0.0), (2292, 0.016099765905491496), (2293, 0.00464106812179501), (2294, 0.0026586900268120704), (2295, 0.0), (2296, 0.009076191394615414), (2297, 0.0), (2298, 0.0030606728130663763), (2299, 0.0), (2300, 0.0), (2301, 0.0), (2302, 0.010486156828932643), (2303, 0.0), (2304, 0.0), (2305, 0.0), (2306, 0.01077821314025908), (2307, 0.0), (2308, 0.0), (2309, 0.0), (2310, 0.002660635603961659), (2311, 0.0), (2312, 0.0), (2313, 0.0), (2314, 0.014510980077904152), (2315, 0.0), (2316, 0.0), (2317, 0.024412980295989057), (2318, 0.0), (2319, 0.007812510321334563), (2320, 0.011167241044939442), (2321, 0.0), (2322, 0.0), (2323, 0.0), (2324, 0.011539260817639034), (2325, 0.0), (2326, 0.0), (2327, 0.013423777774634969), (2328, 0.0), (2329, 0.0), (2330, 0.0), (2331, 0.0), (2332, 0.005147407711401402), (2333, 0.0), (2334, 0.0), (2335, 0.0), (2336, 0.0), (2337, 0.0), (2338, 0.0), (2339, 0.0), (2340, 0.0), (2341, 0.0), (2342, 0.0), (2343, 0.002911894201783572), (2344, 0.0), (2345, 0.0), (2346, 0.002774938342729019), (2347, 0.0), (2348, 0.005629921048281619), (2349, 0.0), (2350, 0.0), (2351, 0.0), (2352, 0.0033469624340276114), (2353, 0.0), (2354, 0.0), (2355, 0.0), (2356, 0.0), (2357, 0.008553436124329405), (2358, 0.0), (2359, 0.0047388232425023815), (2360, 0.0), (2361, 0.0), (2362, 0.010969118273430924), (2363, 0.0033438102763292113), (2364, 0.0), (2365, 0.0), (2366, 0.0), (2367, 0.0), (2368, 0.0), (2369, 0.0), (2370, 0.0), (2371, 0.0), (2372, 0.013913441383192086), (2373, 0.0), (2374, 0.0), (2375, 0.014691810775153497), (2376, 0.0), (2377, 0.0), (2378, 0.004460812364975372), (2379, 0.0), (2380, 0.011258920961216298), (2381, 0.004636045440359783), (2382, 0.0), (2383, 0.0), (2384, 0.0), (2385, 0.0), (2386, 0.0), (2387, 0.010670790651544604), (2388, 0.0), (2389, 0.02093269621422317), (2390, 0.002862029170352931), (2391, 0.0), (2392, 0.0), (2393, 0.0), (2394, 0.0), (2395, 0.0), (2396, 0.0), (2397, 0.0), (2398, 0.011650239314782195), (2399, 0.0), (2400, 0.0), (2401, 0.0), (2402, 0.004557612109196779), (2403, 0.026063509173982317), (2404, 0.013440841729603498), (2405, 0.004881895052505989), (2406, 0.0), (2407, 0.0), (2408, 0.0), (2409, 0.0), (2410, 0.01346950734076607), (2411, 0.012714840616550266), (2412, 0.0), (2413, 0.0), (2414, 0.0), (2415, 0.0), (2416, 0.008484885899191063), (2417, 0.0), (2418, 0.0), (2419, 0.0), (2420, 0.0), (2421, 0.0), (2422, 0.0), (2423, 0.0), (2424, 0.0), (2425, 0.0), (2426, 0.0), (2427, 0.0108375426511575), (2428, 0.0), (2429, 0.0), (2430, 0.0), (2431, 0.0), (2432, 0.0), (2433, 0.013880027755369789), (2434, 0.0), (2435, 0.0), (2436, 0.0), (2437, 0.0036480961448222948), (2438, 0.0), (2439, 0.0028570340270535747), (2440, 0.0), (2441, 0.0), (2442, 0.02190405167246459), (2443, 0.0), (2444, 0.013957543792539853), (2445, 0.0), (2446, 0.0), (2447, 0.0049905051772232995), (2448, 0.011714407532899951), (2449, 0.0), (2450, 0.0), (2451, 0.0), (2452, 0.0), (2453, 0.0), (2454, 0.0), (2455, 0.0), (2456, 0.0), (2457, 0.010200625776519869), (2458, 0.0), (2459, 0.0), (2460, 0.016075394547635905), (2461, 0.0), (2462, 0.0), (2463, 0.0), (2464, 0.0), (2465, 0.0), (2466, 0.0), (2467, 0.0), (2468, 0.0), (2469, 0.033214774225238414), (2470, 0.0), (2471, 0.0), (2472, 0.0), (2473, 0.0), (2474, 0.0031501485854969055), (2475, 0.0), (2476, 0.0), (2477, 0.0), (2478, 0.005168515384259074), (2479, 0.0), (2480, 0.0), (2481, 0.0), (2482, 0.012187445609487747), (2483, 0.0), (2484, 0.06778144553908594), (2485, 0.0), (2486, 0.011252896052663514), (2487, 0.0), (2488, 0.0), (2489, 0.0), (2490, 0.0028089876273400334), (2491, 0.0), (2492, 0.014549336394338757), (2493, 0.0), (2494, 0.0), (2495, 0.004803241432013063), (2496, 0.010998789785585989), (2497, 0.0), (2498, 0.0), (2499, 0.0), (2500, 0.0), (2501, 0.0), (2502, 0.0), (2503, 0.0), (2504, 0.0), (2505, 0.0), (2506, 0.01265359394569017), (2507, 0.005602438453830637), (2508, 0.0), (2509, 0.011341829736853229), (2510, 0.0), (2511, 0.009031524009149363), (2512, 0.0), (2513, 0.0), (2514, 0.0), (2515, 0.002670412750213452), (2516, 0.0), (2517, 0.0), (2518, 0.010945203801810076), (2519, 0.00905537353477572), (2520, 0.0), (2521, 0.0024521985504308203), (2522, 0.0), (2523, 0.0), (2524, 0.0071399507081347235), (2525, 0.0), (2526, 0.009355157641969428), (2527, 0.0028530583772862963), (2528, 0.0), (2529, 0.0), (2530, 0.0), (2531, 0.0), (2532, 0.0), (2533, 0.00868732775204013), (2534, 0.0), (2535, 0.0), (2536, 0.0), (2537, 0.0), (2538, 0.0), (2539, 0.0), (2540, 0.0), (2541, 0.016724436254064577), (2542, 0.0), (2543, 0.01459610896434822), (2544, 0.0), (2545, 0.0), (2546, 0.0), (2547, 0.0), (2548, 0.0), (2549, 0.0), (2550, 0.0029294221561435557), (2551, 0.013634500471516778), (2552, 0.00278903487147451), (2553, 0.0), (2554, 0.0), (2555, 0.0), (2556, 0.002465708550708258), (2557, 0.0), (2558, 0.0), (2559, 0.0), (2560, 0.010341786252012498), (2561, 0.010770565726405843), (2562, 0.0), (2563, 0.0), (2564, 0.0), (2565, 0.0), (2566, 0.0), (2567, 0.0049698280488292826), (2568, 0.0), (2569, 0.0), (2570, 0.0), (2571, 0.0), (2572, 0.0), (2573, 0.0029851725168731674), (2574, 0.0), (2575, 0.0), (2576, 0.0), (2577, 0.02280448253036638), (2578, 0.002882742482351192), (2579, 0.009697132808360615), (2580, 0.0), (2581, 0.01762353660498553), (2582, 0.0), (2583, 0.0), (2584, 0.004916045047574985), (2585, 0.0), (2586, 0.012821013489702446), (2587, 0.0), (2588, 0.021326196069697635), (2589, 0.0), (2590, 0.013192642584991997), (2591, 0.0), (2592, 0.020686696498951843), (2593, 0.0), (2594, 0.0), (2595, 0.0), (2596, 0.0), (2597, 0.0), (2598, 0.0), (2599, 0.0), (2600, 0.0), (2601, 0.0), (2602, 0.0), (2603, 0.0), (2604, 0.0), (2605, 0.011357407297649131), (2606, 0.0), (2607, 0.0), (2608, 0.0), (2609, 0.0), (2610, 0.0), (2611, 0.0), (2612, 0.0), (2613, 0.0), (2614, 0.0), (2615, 0.0), (2616, 0.0), (2617, 0.0), (2618, 0.0), (2619, 0.0), (2620, 0.0), (2621, 0.0), (2622, 0.0), (2623, 0.006710179439353227), (2624, 0.0), (2625, 0.004841872735030173), (2626, 0.0), (2627, 0.00468924640698952), (2628, 0.0), (2629, 0.0), (2630, 0.011534168364059893), (2631, 0.0), (2632, 0.00494926651212957), (2633, 0.005618292678029731), (2634, 0.0), (2635, 0.0), (2636, 0.02589855194156315), (2637, 0.0), (2638, 0.07860767096766458), (2639, 0.010798410054821128), (2640, 0.01629094954504197), (2641, 0.0), (2642, 0.0), (2643, 0.021628603715917512), (2644, 0.0031732857504520543), (2645, 0.0028312834891070938), (2646, 0.0), (2647, 0.004551120581245904), (2648, 0.0), (2649, 0.0), (2650, 0.0), (2651, 0.0), (2652, 0.0), (2653, 0.0033874088480315336), (2654, 0.06477496387404184), (2655, 0.003028607481818987), (2656, 0.0), (2657, 0.007829837009887396), (2658, 0.0), (2659, 0.0), (2660, 0.0), (2661, 0.0), (2662, 0.0), (2663, 0.008004458803451762), (2664, 0.0), (2665, 0.0), (2666, 0.0), (2667, 0.01044590484872944), (2668, 0.0), (2669, 0.0029506946154334982), (2670, 0.005388646365072189), (2671, 0.0), (2672, 0.0), (2673, 0.004686146157747461), (2674, 0.0), (2675, 0.0029470642679487974), (2676, 0.0), (2677, 0.008990790457319557), (2678, 0.002798434575138997), (2679, 0.0), (2680, 0.0), (2681, 0.011903236145729267), (2682, 0.0), (2683, 0.0030025430900498494), (2684, 0.0), (2685, 0.0), (2686, 0.0), (2687, 0.02813978643160236), (2688, 0.02989665889018471), (2689, 0.0), (2690, 0.0), (2691, 0.0), (2692, 0.0), (2693, 0.0), (2694, 0.0), (2695, 0.0), (2696, 0.010726191464182213), (2697, 0.0), (2698, 0.0), (2699, 0.0), (2700, 0.0), (2701, 0.0), (2702, 0.005050992058558362), (2703, 0.0), (2704, 0.0), (2705, 0.00507024836014206), (2706, 0.0), (2707, 0.0), (2708, 0.00370520241823864), (2709, 0.0), (2710, 0.0), (2711, 0.0), (2712, 0.0), (2713, 0.0), (2714, 0.0), (2715, 0.0), (2716, 0.0), (2717, 0.0), (2718, 0.0), (2719, 0.0), (2720, 0.0), (2721, 0.0), (2722, 0.0), (2723, 0.0057486360271634274), (2724, 0.0), (2725, 0.0), (2726, 0.010336428427176948), (2727, 0.0), (2728, 0.0), (2729, 0.0), (2730, 0.0), (2731, 0.0), (2732, 0.0), (2733, 0.0), (2734, 0.0), (2735, 0.007522526271667669), (2736, 0.002746667893628826), (2737, 0.0), (2738, 0.0), (2739, 0.0), (2740, 0.0), (2741, 0.0), (2742, 0.0), (2743, 0.018010272077998053), (2744, 0.0), (2745, 0.0), (2746, 0.011652796711791119), (2747, 0.0026844352613446493), (2748, 0.0), (2749, 0.0), (2750, 0.0), (2751, 0.01135896339750529), (2752, 0.06537591676264196), (2753, 0.0), (2754, 0.0), (2755, 0.014607526976063597), (2756, 0.0), (2757, 0.0025756451334130836), (2758, 0.013671362780996468), (2759, 0.0), (2760, 0.007509037466761466), (2761, 0.0), (2762, 0.0), (2763, 0.0), (2764, 0.0), (2765, 0.0), (2766, 0.002877403771442461), (2767, 0.0), (2768, 0.0), (2769, 0.0), (2770, 0.0), (2771, 0.0), (2772, 0.009051935009893415), (2773, 0.0046357194624132144), (2774, 0.0), (2775, 0.0), (2776, 0.0), (2777, 0.0), (2778, 0.011633207166807446), (2779, 0.0), (2780, 0.0), (2781, 0.010954482825635494), (2782, 0.0), (2783, 0.0), (2784, 0.00888499926036444), (2785, 0.0032280800409109165), (2786, 0.010822466968454868), (2787, 0.022137135187295064), (2788, 0.0), (2789, 0.0), (2790, 0.008692463214998157), (2791, 0.012325333447858324), (2792, 0.005045543392708342), (2793, 0.0), (2794, 0.0), (2795, 0.004793056491258217), (2796, 0.01338572918462072), (2797, 0.0), (2798, 0.0), (2799, 0.0), (2800, 0.0), (2801, 0.0), (2802, 0.012308496636295728), (2803, 0.0), (2804, 0.012565569326466497), (2805, 0.0026563457286967055), (2806, 0.002343845746844424), (2807, 0.00711460592393559), (2808, 0.007195253707600315), (2809, 0.011823985406386425), (2810, 0.0), (2811, 0.0), (2812, 0.0029623594794578197), (2813, 0.0), (2814, 0.0), (2815, 0.021211540452502276), (2816, 0.004933273818151999), (2817, 0.05112122823959364), (2818, 0.0), (2819, 0.0), (2820, 0.0), (2821, 0.0), (2822, 0.0), (2823, 0.0032158896318113367), (2824, 0.011672368734090924), (2825, 0.0), (2826, 0.014422132690150708), (2827, 0.0029888855746604804), (2828, 0.008040447026909769), (2829, 0.0), (2830, 0.0), (2831, 0.011138672588394636), (2832, 0.0), (2833, 0.0), (2834, 0.010281523099612137), (2835, 0.0), (2836, 0.0), (2837, 0.0), (2838, 0.0), (2839, 0.0), (2840, 0.0), (2841, 0.011472920216325806), (2842, 0.0167243275544111), (2843, 0.0), (2844, 0.0), (2845, 0.011162523660699747), (2846, 0.0), (2847, 0.004529035312192312), (2848, 0.010603427809885367), (2849, 0.002893840080417684), (2850, 0.0072537223989453045), (2851, 0.013398950615820112), (2852, 0.0), (2853, 0.0), (2854, 0.0), (2855, 0.0), (2856, 0.0), (2857, 0.0), (2858, 0.0), (2859, 0.0), (2860, 0.0026069856721571538), (2861, 0.0), (2862, 0.012389997517068135), (2863, 0.002815501097972167), (2864, 0.0), (2865, 0.025467766116156264), (2866, 0.0), (2867, 0.010896258756761649), (2868, 0.01144236447922407), (2869, 0.0), (2870, 0.0), (2871, 0.0), (2872, 0.0), (2873, 0.0), (2874, 0.005308962095458695), (2875, 0.0), (2876, 0.0), (2877, 0.009222615348602345), (2878, 0.0036027026766950253), (2879, 0.0), (2880, 0.0), (2881, 0.0), (2882, 0.0), (2883, 0.0055746096976244126), (2884, 0.009926152485319174), (2885, 0.0), (2886, 0.0028811272321545814), (2887, 0.0), (2888, 0.0), (2889, 0.007946864476385127), (2890, 0.0), (2891, 0.00532015191655586), (2892, 0.0), (2893, 0.0), (2894, 0.0), (2895, 0.0), (2896, 0.0), (2897, 0.032611677362742876), (2898, 0.0), (2899, 0.003366501436013359), (2900, 0.011731509183665098), (2901, 0.0), (2902, 0.0), (2903, 0.0), (2904, 0.0), (2905, 0.0), (2906, 0.008553548205981046), (2907, 0.0), (2908, 0.0), (2909, 0.0), (2910, 0.0), (2911, 0.0), (2912, 0.014357262431741756), (2913, 0.0), (2914, 0.0), (2915, 0.0031134777088714077), (2916, 0.0), (2917, 0.0), (2918, 0.0), (2919, 0.0), (2920, 0.0), (2921, 0.0), (2922, 0.0), (2923, 0.01181907446859278), (2924, 0.0), (2925, 0.0), (2926, 0.0), (2927, 0.02173494283635617), (2928, 0.00563628111597383), (2929, 0.0), (2930, 0.0033891667999943697), (2931, 0.0), (2932, 0.0), (2933, 0.016800989884669666), (2934, 0.011728875917318447), (2935, 0.0), (2936, 0.05250768603304622), (2937, 0.0), (2938, 0.0), (2939, 0.0), (2940, 0.0), (2941, 0.0), (2942, 0.0), (2943, 0.0), (2944, 0.0), (2945, 0.0), (2946, 0.0), (2947, 0.008469678652962654), (2948, 0.0), (2949, 0.0), (2950, 0.0), (2951, 0.0), (2952, 0.0), (2953, 0.009474823744647405), (2954, 0.0), (2955, 0.0), (2956, 0.0), (2957, 0.0), (2958, 0.0), (2959, 0.0), (2960, 0.010447813512303748), (2961, 0.004919193651160288), (2962, 0.0), (2963, 0.0), (2964, 0.02496094788136336), (2965, 0.0), (2966, 0.9999999999999998), (2967, 0.05071342063765362), (2968, 0.0), (2969, 0.027819071754796743), (2970, 0.02524942145166622), (2971, 0.0), (2972, 0.0), (2973, 0.0), (2974, 0.0), (2975, 0.0), (2976, 0.0), (2977, 0.0), (2978, 0.0), (2979, 0.0), (2980, 0.0), (2981, 0.0), (2982, 0.0), (2983, 0.0), (2984, 0.0), (2985, 0.0), (2986, 0.0), (2987, 0.0), (2988, 0.012384388298538229), (2989, 0.0), (2990, 0.0), (2991, 0.012902058986767237), (2992, 0.0), (2993, 0.0), (2994, 0.01049373450475115), (2995, 0.014257724452469936), (2996, 0.002857409476701748), (2997, 0.012242625974879996), (2998, 0.00452848198594327), (2999, 0.0), (3000, 0.0), (3001, 0.0031640694324665563), (3002, 0.011333369169686792), (3003, 0.0), (3004, 0.003016632511496457), (3005, 0.0), (3006, 0.011493365531926864), (3007, 0.0), (3008, 0.0), (3009, 0.0), (3010, 0.0), (3011, 0.0), (3012, 0.0), (3013, 0.002793601738886956), (3014, 0.011859278543475828), (3015, 0.00853514520024709), (3016, 0.0), (3017, 0.0), (3018, 0.015158868241822675), (3019, 0.0), (3020, 0.0), (3021, 0.0), (3022, 0.0), (3023, 0.0), (3024, 0.019997850365024893), (3025, 0.0), (3026, 0.017111516279045412), (3027, 0.010313137150637548), (3028, 0.0), (3029, 0.0), (3030, 0.0), (3031, 0.0), (3032, 0.0), (3033, 0.00477256672566646), (3034, 0.0), (3035, 0.002809655348686718), (3036, 0.0), (3037, 0.0), (3038, 0.0), (3039, 0.0), (3040, 0.0), (3041, 0.0), (3042, 0.004708897281228672), (3043, 0.0034595318830011102), (3044, 0.0), (3045, 0.0), (3046, 0.0), (3047, 0.0), (3048, 0.0), (3049, 0.0), (3050, 0.0048891343229952216), (3051, 0.0033771373384774545), (3052, 0.0), (3053, 0.0), (3054, 0.0), (3055, 0.011152445469397629), (3056, 0.0), (3057, 0.0), (3058, 0.0), (3059, 0.0), (3060, 0.004818022776812729), (3061, 0.0), (3062, 0.0), (3063, 0.0), (3064, 0.0), (3065, 0.0), (3066, 0.0), (3067, 0.0), (3068, 0.002705148618336073), (3069, 0.0), (3070, 0.0), (3071, 0.0), (3072, 0.03660608446918941), (3073, 0.008875500660095318), (3074, 0.004582817457315232), (3075, 0.0), (3076, 0.0), (3077, 0.0), (3078, 0.0), (3079, 0.0), (3080, 0.0), (3081, 0.0), (3082, 0.007578778844698803), (3083, 0.004754680909392422), (3084, 0.0), (3085, 0.005024673404712569), (3086, 0.0), (3087, 0.018097654309661298), (3088, 0.0), (3089, 0.012880389000575237), (3090, 0.0), (3091, 0.007465305494279245), (3092, 0.0), (3093, 0.0), (3094, 0.0), (3095, 0.0), (3096, 0.0), (3097, 0.0), (3098, 0.0032733981952516138), (3099, 0.009266820987095241), (3100, 0.0), (3101, 0.0), (3102, 0.0), (3103, 0.0), (3104, 0.0), (3105, 0.0), (3106, 0.0), (3107, 0.0), (3108, 0.0), (3109, 0.007620567173838173), (3110, 0.0), (3111, 0.0), (3112, 0.0), (3113, 0.0), (3114, 0.0), (3115, 0.014837383953684622), (3116, 0.0), (3117, 0.0), (3118, 0.0), (3119, 0.009962616888626315), (3120, 0.0), (3121, 0.0), (3122, 0.0), (3123, 0.0047302223220962855), (3124, 0.0), (3125, 0.0), (3126, 0.0), (3127, 0.0), (3128, 0.01615233039286864), (3129, 0.003226721987062193), (3130, 0.0), (3131, 0.0), (3132, 0.0), (3133, 0.010236702752569493), (3134, 0.0), (3135, 0.0), (3136, 0.015784191653646074), (3137, 0.010454122688576619), (3138, 0.007141885516438194), (3139, 0.0), (3140, 0.0), (3141, 0.0), (3142, 0.0), (3143, 0.002751328271531068), (3144, 0.0), (3145, 0.007171876847195106), (3146, 0.029012345758315294), (3147, 0.01136733810041075), (3148, 0.016947624532067954), (3149, 0.0), (3150, 0.010350813636070495), (3151, 0.0), (3152, 0.0), (3153, 0.0), (3154, 0.0), (3155, 0.010133991816285666), (3156, 0.0), (3157, 0.0), (3158, 0.011005227177505041), (3159, 0.007128102783579478), (3160, 0.0), (3161, 0.0), (3162, 0.0026912391642683595), (3163, 0.01191854653217017), (3164, 0.0), (3165, 0.00885814527530169), (3166, 0.0), (3167, 0.0), (3168, 0.0), (3169, 0.0), (3170, 0.010043547208066331), (3171, 0.0027671556933025337), (3172, 0.010940358965075258), (3173, 0.0), (3174, 0.0), (3175, 0.0), (3176, 0.010175301995690892), (3177, 0.0), (3178, 0.0), (3179, 0.0), (3180, 0.0), (3181, 0.0), (3182, 0.0), (3183, 0.0), (3184, 0.011229918404173228), (3185, 0.0), (3186, 0.0), (3187, 0.0), (3188, 0.0), (3189, 0.004234643204672276), (3190, 0.0), (3191, 0.0), (3192, 0.0), (3193, 0.0), (3194, 0.0), (3195, 0.0), (3196, 0.0), (3197, 0.0), (3198, 0.0), (3199, 0.005907986313143885), (3200, 0.0), (3201, 0.0), (3202, 0.0029746797727559556), (3203, 0.013869153924660056), (3204, 0.039220977678780064), (3205, 0.0), (3206, 0.0), (3207, 0.005602513230009128), (3208, 0.014223323764250999), (3209, 0.0), (3210, 0.0), (3211, 0.0), (3212, 0.0), (3213, 0.0), (3214, 0.010128161428668424), (3215, 0.0026839399897786863), (3216, 0.0), (3217, 0.0), (3218, 0.0), (3219, 0.0), (3220, 0.0), (3221, 0.0), (3222, 0.0), (3223, 0.0), (3224, 0.00346448800653556), (3225, 0.0037756643971683097), (3226, 0.0), (3227, 0.0), (3228, 0.0), (3229, 0.0), (3230, 0.01273142677906158), (3231, 0.013071536441202744), (3232, 0.0), (3233, 0.003054888572270594), (3234, 0.0), (3235, 0.0), (3236, 0.0), (3237, 0.0), (3238, 0.0), (3239, 0.0), (3240, 0.010801055634257397), (3241, 0.0), (3242, 0.0), (3243, 0.0), (3244, 0.0), (3245, 0.0), (3246, 0.005015026356526999), (3247, 0.0), (3248, 0.0), (3249, 0.0025728016343824272), (3250, 0.0), (3251, 0.0028124022016375078), (3252, 0.0046561139762096295), (3253, 0.0), (3254, 0.0), (3255, 0.0), (3256, 0.0), (3257, 0.0), (3258, 0.0), (3259, 0.0), (3260, 0.0), (3261, 0.0), (3262, 0.0), (3263, 0.014649598497761767), (3264, 0.013044656580984602), (3265, 0.0), (3266, 0.0), (3267, 0.0), (3268, 0.0), (3269, 0.0), (3270, 0.0), (3271, 0.0), (3272, 0.0), (3273, 0.004529230516018098), (3274, 0.0), (3275, 0.0), (3276, 0.022783677900378097), (3277, 0.0), (3278, 0.0), (3279, 0.0), (3280, 0.003480404446068869), (3281, 0.0), (3282, 0.0), (3283, 0.0), (3284, 0.010244520635391071), (3285, 0.0), (3286, 0.006045059790486973), (3287, 0.0), (3288, 0.0), (3289, 0.011168342821559075), (3290, 0.0), (3291, 0.0), (3292, 0.0), (3293, 0.005210165494626304), (3294, 0.0), (3295, 0.00806728511246223), (3296, 0.010004585768734232), (3297, 0.0), (3298, 0.0), (3299, 0.0), (3300, 0.0), (3301, 0.0), (3302, 0.0), (3303, 0.0), (3304, 0.0), (3305, 0.014689762497016045), (3306, 0.0), (3307, 0.0), (3308, 0.0), (3309, 0.01330961260324675), (3310, 0.01829893204947796), (3311, 0.0), (3312, 0.010378668360608507), (3313, 0.0), (3314, 0.0), (3315, 0.0), (3316, 0.0), (3317, 0.0), (3318, 0.003050913945496132), (3319, 0.0), (3320, 0.011646090272873532), (3321, 0.0), (3322, 0.0), (3323, 0.011114134189906961), (3324, 0.0), (3325, 0.0), (3326, 0.0), (3327, 0.0), (3328, 0.0), (3329, 0.003220585332882954), (3330, 0.0), (3331, 0.0), (3332, 0.00947404159934641), (3333, 0.0), (3334, 0.0), (3335, 0.0), (3336, 0.0028411363017868565), (3337, 0.0), (3338, 0.0), (3339, 0.0), (3340, 0.0), (3341, 0.0), (3342, 0.0), (3343, 0.0030232990299094774), (3344, 0.0), (3345, 0.0), (3346, 0.0), (3347, 0.0), (3348, 0.0), (3349, 0.0), (3350, 0.013549014630767993), (3351, 0.002851918155247974), (3352, 0.0029113407258376045), (3353, 0.002889305318337346), (3354, 0.0), (3355, 0.0), (3356, 0.0), (3357, 0.02146232113954572), (3358, 0.0), (3359, 0.017401194031118464), (3360, 0.01382999914240828), (3361, 0.01300212700992059), (3362, 0.0), (3363, 0.0058971334228400864), (3364, 0.0030347541386788433), (3365, 0.015380608143288585), (3366, 0.0), (3367, 0.0), (3368, 0.0), (3369, 0.007635595043025639), (3370, 0.002789243453501944), (3371, 0.0), (3372, 0.011782956780765018), (3373, 0.0034948593941799395), (3374, 0.0), (3375, 0.0), (3376, 0.0), (3377, 0.0), (3378, 0.0), (3379, 0.0), (3380, 0.0), (3381, 0.01428152920606558), (3382, 0.0), (3383, 0.0), (3384, 0.0), (3385, 0.002941760220906528), (3386, 0.009946424962677855), (3387, 0.010006523885734255), (3388, 0.0), (3389, 0.0), (3390, 0.0), (3391, 0.0), (3392, 0.009093773993092013), (3393, 0.0), (3394, 0.0), (3395, 0.0), (3396, 0.011961398915700732), (3397, 0.0), (3398, 0.0), (3399, 0.0), (3400, 0.0), (3401, 0.0), (3402, 0.0), (3403, 0.0031724533985913986), (3404, 0.0), (3405, 0.014437695769415188), (3406, 0.0), (3407, 0.0), (3408, 0.0), (3409, 0.0), (3410, 0.0), (3411, 0.0), (3412, 0.0), (3413, 0.0), (3414, 0.004407022256227194), (3415, 0.0), (3416, 0.0), (3417, 0.0), (3418, 0.0), (3419, 0.0), (3420, 0.0), (3421, 0.0), (3422, 0.0), (3423, 0.004960123519647064), (3424, 0.012484893879304194), (3425, 0.00702052282476929), (3426, 0.0), (3427, 0.011129385362742043), (3428, 0.0), (3429, 0.0), (3430, 0.0), (3431, 0.008827273215965117), (3432, 0.0), (3433, 0.0), (3434, 0.0), (3435, 0.0), (3436, 0.0), (3437, 0.003380238463544839), (3438, 0.0), (3439, 0.05226193116028435), (3440, 0.007959454972483654), (3441, 0.0), (3442, 0.0), (3443, 0.0), (3444, 0.0), (3445, 0.0), (3446, 0.0), (3447, 0.0), (3448, 0.0), (3449, 0.0), (3450, 0.0), (3451, 0.0), (3452, 0.009581018942090841), (3453, 0.0), (3454, 0.0), (3455, 0.0), (3456, 0.0), (3457, 0.0), (3458, 0.0), (3459, 0.0), (3460, 0.011136027444924571), (3461, 0.0), (3462, 0.0), (3463, 0.0), (3464, 0.0), (3465, 0.008064183899649285), (3466, 0.0), (3467, 0.0), (3468, 0.0), (3469, 0.0), (3470, 0.0), (3471, 0.0), (3472, 0.0), (3473, 0.0), (3474, 0.0), (3475, 0.0), (3476, 0.0), (3477, 0.0), (3478, 0.0), (3479, 0.0), (3480, 0.0), (3481, 0.0), (3482, 0.0), (3483, 0.0), (3484, 0.0), (3485, 0.0), (3486, 0.005670971263095264), (3487, 0.0), (3488, 0.0), (3489, 0.0), (3490, 0.010009677515047858), (3491, 0.0), (3492, 0.0026068193924575172), (3493, 0.0), (3494, 0.024104768004521642), (3495, 0.0), (3496, 0.0), (3497, 0.0), (3498, 0.0), (3499, 0.0), (3500, 0.0), (3501, 0.0), (3502, 0.0), (3503, 0.0), (3504, 0.0), (3505, 0.0), (3506, 0.0059163090383062234), (3507, 0.0), (3508, 0.0), (3509, 0.008794429663234911), (3510, 0.0), (3511, 0.01531975516195688), (3512, 0.0), (3513, 0.0), (3514, 0.0), (3515, 0.0), (3516, 0.0), (3517, 0.0), (3518, 0.0), (3519, 0.009504226081968577), (3520, 0.0), (3521, 0.0), (3522, 0.0029036416910757893), (3523, 0.0), (3524, 0.0), (3525, 0.0), (3526, 0.010550537949898641), (3527, 0.0), (3528, 0.0), (3529, 0.0), (3530, 0.0), (3531, 0.0), (3532, 0.0), (3533, 0.0), (3534, 0.018486811882744193), (3535, 0.0), (3536, 0.0), (3537, 0.005180094695904588), (3538, 0.0), (3539, 0.0), (3540, 0.0), (3541, 0.004941978361468549), (3542, 0.0), (3543, 0.0), (3544, 0.0), (3545, 0.0), (3546, 0.0), (3547, 0.0), (3548, 0.0), (3549, 0.011843701675255478), (3550, 0.0), (3551, 0.0), (3552, 0.011902266011003493), (3553, 0.0), (3554, 0.0), (3555, 0.0), (3556, 0.022329433574531453), (3557, 0.0), (3558, 0.0), (3559, 0.0), (3560, 0.010204439364724194), (3561, 0.0), (3562, 0.008717265156297917), (3563, 0.0), (3564, 0.0), (3565, 0.0), (3566, 0.0), (3567, 0.0), (3568, 0.025761286724566033), (3569, 0.0), (3570, 0.0), (3571, 0.0), (3572, 0.0), (3573, 0.004859514411673275), (3574, 0.0), (3575, 0.0), (3576, 0.008391635931460119), (3577, 0.0), (3578, 0.0), (3579, 0.01122805231460861), (3580, 0.0), (3581, 0.0), (3582, 0.0), (3583, 0.0), (3584, 0.0), (3585, 0.0), (3586, 0.0), (3587, 0.0), (3588, 0.0), (3589, 0.0), (3590, 0.0), (3591, 0.015851843821986553), (3592, 0.0), (3593, 0.0), (3594, 0.0), (3595, 0.0), (3596, 0.0), (3597, 0.0), (3598, 0.0), (3599, 0.004848923879049746), (3600, 0.0), (3601, 0.00498429070243202), (3602, 0.008510952745764242), (3603, 0.0), (3604, 0.037241427291882324), (3605, 0.0), (3606, 0.0), (3607, 0.0), (3608, 0.0), (3609, 0.0), (3610, 0.0), (3611, 0.00891003946585831), (3612, 0.0), (3613, 0.010490689838091122), (3614, 0.0), (3615, 0.0), (3616, 0.0031178551871038273), (3617, 0.01682958342235345), (3618, 0.0030318476703406192), (3619, 0.0), (3620, 0.009943331472018634), (3621, 0.0), (3622, 0.0), (3623, 0.0), (3624, 0.0655090060433503), (3625, 0.0), (3626, 0.0), (3627, 0.0), (3628, 0.0), (3629, 0.0), (3630, 0.011449157566549753), (3631, 0.0), (3632, 0.0), (3633, 0.0), (3634, 0.00550969839852238), (3635, 0.0), (3636, 0.0), (3637, 0.00575649225253166), (3638, 0.0), (3639, 0.0), (3640, 0.0), (3641, 0.0), (3642, 0.03320701746487047), (3643, 0.0), (3644, 0.017418645130107324), (3645, 0.0), (3646, 0.0), (3647, 0.0), (3648, 0.0), (3649, 0.0), (3650, 0.0), (3651, 0.0), (3652, 0.012146309158315594), (3653, 0.0), (3654, 0.0), (3655, 0.0), (3656, 0.011495211900942215), (3657, 0.0), (3658, 0.0), (3659, 0.0), (3660, 0.0), (3661, 0.0), (3662, 0.007561890317797755), (3663, 0.0), (3664, 0.009519235200057036), (3665, 0.00864495357082018), (3666, 0.0), (3667, 0.0), (3668, 0.011891541453942426), (3669, 0.0), (3670, 0.0), (3671, 0.0), (3672, 0.0), (3673, 0.0), (3674, 0.0), (3675, 0.0), (3676, 0.0), (3677, 0.0), (3678, 0.0), (3679, 0.0), (3680, 0.0), (3681, 0.0), (3682, 0.0), (3683, 0.0), (3684, 0.0), (3685, 0.0), (3686, 0.0), (3687, 0.0), (3688, 0.0), (3689, 0.0), (3690, 0.0), (3691, 0.010434848153206309), (3692, 0.0), (3693, 0.0), (3694, 0.0), (3695, 0.00977777037429662), (3696, 0.0), (3697, 0.0), (3698, 0.0029756445747272605), (3699, 0.0), (3700, 0.0), (3701, 0.0), (3702, 0.0), (3703, 0.0), (3704, 0.0), (3705, 0.0), (3706, 0.004631097447386858), (3707, 0.0), (3708, 0.0), (3709, 0.0), (3710, 0.0), (3711, 0.0), (3712, 0.0), (3713, 0.0), (3714, 0.0), (3715, 0.01123438060334093), (3716, 0.0), (3717, 0.004768613214948803), (3718, 0.0), (3719, 0.007090631483052692), (3720, 0.0), (3721, 0.0), (3722, 0.0), (3723, 0.0), (3724, 0.0031042163082038786), (3725, 0.0), (3726, 0.0), (3727, 0.009878253418194443), (3728, 0.0), (3729, 0.0), (3730, 0.014600937864220346), (3731, 0.0), (3732, 0.0), (3733, 0.0), (3734, 0.0), (3735, 0.0), (3736, 0.01251260038425427), (3737, 0.0), (3738, 0.0), (3739, 0.0), (3740, 0.0), (3741, 0.0), (3742, 0.012543639052024972), (3743, 0.0), (3744, 0.0), (3745, 0.0), (3746, 0.0), (3747, 0.0), (3748, 0.0), (3749, 0.010867317332570625), (3750, 0.0028278235472956152), (3751, 0.006921600591100456), (3752, 0.0), (3753, 0.0), (3754, 0.004958985191338806), (3755, 0.0), (3756, 0.0), (3757, 0.008294533824033374), (3758, 0.0), (3759, 0.0), (3760, 0.008079788246009339), (3761, 0.0), (3762, 0.0), (3763, 0.0), (3764, 0.0048728673644609175), (3765, 0.0), (3766, 0.0), (3767, 0.0), (3768, 0.0), (3769, 0.0), (3770, 0.0), (3771, 0.0), (3772, 0.0), (3773, 0.0), (3774, 0.0), (3775, 0.0), (3776, 0.0), (3777, 0.0033519225586971994), (3778, 0.0), (3779, 0.0), (3780, 0.0), (3781, 0.0), (3782, 0.0), (3783, 0.0), (3784, 0.0), (3785, 0.0), (3786, 0.0), (3787, 0.0), (3788, 0.0), (3789, 0.0), (3790, 0.0), (3791, 0.0), (3792, 0.0), (3793, 0.0), (3794, 0.0), (3795, 0.011777628050088928), (3796, 0.0), (3797, 0.0), (3798, 0.0), (3799, 0.003031048387154025), (3800, 0.011811980537979539), (3801, 0.0), (3802, 0.007925229234441344), (3803, 0.0), (3804, 0.0), (3805, 0.0), (3806, 0.0), (3807, 0.0), (3808, 0.0), (3809, 0.0), (3810, 0.0033348206392012913), (3811, 0.0), (3812, 0.007787898777730131), (3813, 0.0), (3814, 0.0), (3815, 0.0), (3816, 0.0), (3817, 0.0), (3818, 0.0), (3819, 0.0), (3820, 0.0), (3821, 0.0), (3822, 0.0), (3823, 0.0), (3824, 0.007231272300133972), (3825, 0.0), (3826, 0.0031155816730173906), (3827, 0.009373965092315957), (3828, 0.0), (3829, 0.0), (3830, 0.0), (3831, 0.0), (3832, 0.0), (3833, 0.005137807887655746), (3834, 0.004842669207620383), (3835, 0.004691259540980284), (3836, 0.0), (3837, 0.0), (3838, 0.0), (3839, 0.004414825362645474), (3840, 0.0), (3841, 0.0), (3842, 0.0), (3843, 0.0), (3844, 0.0), (3845, 0.00263722061997496), (3846, 0.0), (3847, 0.0), (3848, 0.0), (3849, 0.0), (3850, 0.004904021114386275), (3851, 0.0), (3852, 0.0), (3853, 0.005897030877386987), (3854, 0.0), (3855, 0.0), (3856, 0.003020949989835033), (3857, 0.0), (3858, 0.0099236916361222), (3859, 0.004886342674669753), (3860, 0.0), (3861, 0.0), (3862, 0.0), (3863, 0.011735063665397142), (3864, 0.007261478682685212), (3865, 0.0), (3866, 0.010309531649914449), (3867, 0.0), (3868, 0.0), (3869, 0.005401017787823101), (3870, 0.0), (3871, 0.0), (3872, 0.0), (3873, 0.0), (3874, 0.0), (3875, 0.0), (3876, 0.0), (3877, 0.004478774805081685), (3878, 0.0), (3879, 0.0), (3880, 0.0), (3881, 0.0), (3882, 0.0), (3883, 0.0), (3884, 0.012554189313272884), (3885, 0.010677606213952627), (3886, 0.0), (3887, 0.0), (3888, 0.0), (3889, 0.0), (3890, 0.0), (3891, 0.0), (3892, 0.0), (3893, 0.0), (3894, 0.0), (3895, 0.01056410908615104), (3896, 0.00451054571640424), (3897, 0.0), (3898, 0.0), (3899, 0.035750138156202246), (3900, 0.0), (3901, 0.002958919325532168), (3902, 0.004648265336980245), (3903, 0.007331123133127019), (3904, 0.030941220577661674), (3905, 0.00740707366854747), (3906, 0.0), (3907, 0.0), (3908, 0.0050146020748155), (3909, 0.0), (3910, 0.0), (3911, 0.0), (3912, 0.0), (3913, 0.0), (3914, 0.013702392684770992), (3915, 0.0), (3916, 0.0), (3917, 0.0), (3918, 0.0), (3919, 0.0), (3920, 0.020634347012687463), (3921, 0.0), (3922, 0.0), (3923, 0.0), (3924, 0.0), (3925, 0.0), (3926, 0.0), (3927, 0.0), (3928, 0.0), (3929, 0.012825592276774461), (3930, 0.0), (3931, 0.0), (3932, 0.0), (3933, 0.0), (3934, 0.00904369392596254), (3935, 0.0), (3936, 0.0), (3937, 0.0), (3938, 0.0), (3939, 0.0), (3940, 0.0038871772258475047), (3941, 0.0), (3942, 0.0), (3943, 0.0), (3944, 0.0), (3945, 0.008003114855184445), (3946, 0.0), (3947, 0.0), (3948, 0.013634330896261782), (3949, 0.0), (3950, 0.0), (3951, 0.0), (3952, 0.0), (3953, 0.0), (3954, 0.0), (3955, 0.0), (3956, 0.010751371158187252), (3957, 0.0), (3958, 0.0), (3959, 0.0), (3960, 0.01016348690960657), (3961, 0.0), (3962, 0.0), (3963, 0.0), (3964, 0.0), (3965, 0.0), (3966, 0.0), (3967, 0.0), (3968, 0.0), (3969, 0.005300448680146375), (3970, 0.0), (3971, 0.0), (3972, 0.0), (3973, 0.0), (3974, 0.0), (3975, 0.0), (3976, 0.0), (3977, 0.0), (3978, 0.005757737041354285), (3979, 0.0), (3980, 0.004752697783203971), (3981, 0.0), (3982, 0.0), (3983, 0.0), (3984, 0.0), (3985, 0.0), (3986, 0.0028678563718921657), (3987, 0.011471694539706062), (3988, 0.012355353833676029), (3989, 0.0), (3990, 0.0), (3991, 0.0028917413521002975), (3992, 0.0), (3993, 0.015532013057201753), (3994, 0.002884751029076437), (3995, 0.0), (3996, 0.0), (3997, 0.0), (3998, 0.0), (3999, 0.0), (4000, 0.0), (4001, 0.0), (4002, 0.0), (4003, 0.009772347569061503), (4004, 0.003231124846307012), (4005, 0.0), (4006, 0.014033971608998483), (4007, 0.009496542462619554), (4008, 0.0), (4009, 0.0), (4010, 0.0), (4011, 0.015476359419833286), (4012, 0.011295964028727777), (4013, 0.01095898460816964), (4014, 0.0), (4015, 0.007514634308771449), (4016, 0.0), (4017, 0.0), (4018, 0.004931692889079188), (4019, 0.0), (4020, 0.0), (4021, 0.0), (4022, 0.011441474124273545), (4023, 0.0), (4024, 0.0), (4025, 0.0), (4026, 0.0), (4027, 0.0), (4028, 0.0), (4029, 0.0), (4030, 0.0), (4031, 0.0), (4032, 0.011684851495441627), (4033, 0.0), (4034, 0.0), (4035, 0.0), (4036, 0.0), (4037, 0.0), (4038, 0.0), (4039, 0.014056089655645539), (4040, 0.0), (4041, 0.0), (4042, 0.014312288577316964), (4043, 0.0), (4044, 0.0), (4045, 0.0), (4046, 0.0), (4047, 0.0), (4048, 0.0), (4049, 0.0027423982928915427), (4050, 0.0), (4051, 0.0), (4052, 0.0), (4053, 0.0), (4054, 0.0), (4055, 0.0), (4056, 0.0), (4057, 0.0), (4058, 0.0), (4059, 0.0), (4060, 0.0), (4061, 0.013785848258429843), (4062, 0.0067287098559050285), (4063, 0.0), (4064, 0.0), (4065, 0.0), (4066, 0.004506246108178671), (4067, 0.00499421416529312), (4068, 0.0), (4069, 0.012801016566049029), (4070, 0.012128174820511293), (4071, 0.002801244689493089), (4072, 0.0), (4073, 0.01176357439649368), (4074, 0.031282341920569626), (4075, 0.0), (4076, 0.0), (4077, 0.01431647682786461), (4078, 0.0), (4079, 0.0), (4080, 0.0044929934985427815), (4081, 0.0), (4082, 0.0), (4083, 0.0), (4084, 0.002612796873819594), (4085, 0.002493330013391225), (4086, 0.010992865155685101), (4087, 0.0), (4088, 0.0), (4089, 0.0), (4090, 0.0), (4091, 0.0), (4092, 0.0), (4093, 0.0029161764116165598), (4094, 0.0), (4095, 0.0), (4096, 0.007592633567787236), (4097, 0.0), (4098, 0.0), (4099, 0.0), (4100, 0.0), (4101, 0.0), (4102, 0.0), (4103, 0.0), (4104, 0.0), (4105, 0.0), (4106, 0.0), (4107, 0.009178796817065727), (4108, 0.014013369170335476), (4109, 0.0), (4110, 0.0), (4111, 0.0), (4112, 0.0), (4113, 0.0), (4114, 0.0), (4115, 0.0), (4116, 0.0), (4117, 0.015497395556312417), (4118, 0.0), (4119, 0.0), (4120, 0.0), (4121, 0.0), (4122, 0.0), (4123, 0.0), (4124, 0.0), (4125, 0.01275575025512854), (4126, 0.0), (4127, 0.0051643133368830625), (4128, 0.02417638171845009), (4129, 0.0), (4130, 0.0077783115834916955), (4131, 0.011670158208041228), (4132, 0.0), (4133, 0.0), (4134, 0.0), (4135, 0.008501450961792454), (4136, 0.0), (4137, 0.0), (4138, 0.0), (4139, 0.0), (4140, 0.0), (4141, 0.0), (4142, 0.0), (4143, 0.0033631589309629215), (4144, 0.004341151911528476), (4145, 0.0), (4146, 0.0035199467598665576), (4147, 0.0), (4148, 0.0), (4149, 0.0), (4150, 0.0), (4151, 0.004537159909256722), (4152, 0.0), (4153, 0.0), (4154, 0.0), (4155, 0.0030536993624897457), (4156, 0.011953781485644296), (4157, 0.004657280120674409), (4158, 0.0), (4159, 0.009743479504984085), (4160, 0.0285030138369857), (4161, 0.008581604639057777), (4162, 0.004251509154704022), (4163, 0.0), (4164, 0.0), (4165, 0.0), (4166, 0.0), (4167, 0.0), (4168, 0.0), (4169, 0.0), (4170, 0.008103955411926135), (4171, 0.0), (4172, 0.0), (4173, 0.05102947016417387), (4174, 0.0), (4175, 0.0), (4176, 0.011762897309402772), (4177, 0.0), (4178, 0.0), (4179, 0.0), (4180, 0.0), (4181, 0.0), (4182, 0.00258523806638706), (4183, 0.0), (4184, 0.0), (4185, 0.0), (4186, 0.0), (4187, 0.012134731533935742), (4188, 0.0), (4189, 0.0), (4190, 0.013725491175084821), (4191, 0.002730719390476135), (4192, 0.0), (4193, 0.010965035231140315), (4194, 0.007430854425760049), (4195, 0.008642129024053993), (4196, 0.01890570335794331), (4197, 0.0), (4198, 0.0), (4199, 0.0), (4200, 0.0), (4201, 0.0), (4202, 0.0), (4203, 0.0), (4204, 0.0), (4205, 0.0), (4206, 0.0), (4207, 0.0), (4208, 0.0), (4209, 0.004626587397801552), (4210, 0.0), (4211, 0.0), (4212, 0.006049733651545345), (4213, 0.0), (4214, 0.0), (4215, 0.0), (4216, 0.0), (4217, 0.0), (4218, 0.007553515114524968), (4219, 0.0), (4220, 0.0), (4221, 0.00506548316377886), (4222, 0.005126613204049033), (4223, 0.0), (4224, 0.0), (4225, 0.01105115431976321), (4226, 0.009091907887916697), (4227, 0.01125975433070421), (4228, 0.009184221870487801), (4229, 0.0), (4230, 0.0), (4231, 0.0), (4232, 0.0), (4233, 0.0), (4234, 0.004785132196342556), (4235, 0.0), (4236, 0.0), (4237, 0.0), (4238, 0.0), (4239, 0.0), (4240, 0.0), (4241, 0.0), (4242, 0.0), (4243, 0.0), (4244, 0.01856790575746049), (4245, 0.01562412942449146), (4246, 0.0), (4247, 0.0), (4248, 0.02213739167415083), (4249, 0.0), (4250, 0.0), (4251, 0.013161697595924088), (4252, 0.0), (4253, 0.0), (4254, 0.012299214246784141), (4255, 0.0), (4256, 0.0), (4257, 0.0054714400148076344), (4258, 0.0), (4259, 0.0), (4260, 0.0), (4261, 0.0), (4262, 0.003386517488681841), (4263, 0.0), (4264, 0.0), (4265, 0.0), (4266, 0.0), (4267, 0.013541450311526572), (4268, 0.0), (4269, 0.0), (4270, 0.0), (4271, 0.0), (4272, 0.0), (4273, 0.0), (4274, 0.0), (4275, 0.0), (4276, 0.01279217239184398), (4277, 0.0), (4278, 0.0), (4279, 0.0), (4280, 0.0), (4281, 0.004791293631276629), (4282, 0.0), (4283, 0.0), (4284, 0.031719358535061457), (4285, 0.0), (4286, 0.0028754034641014494), (4287, 0.0), (4288, 0.0), (4289, 0.0), (4290, 0.0), (4291, 0.0046859967811480815), (4292, 0.004562489329540958), (4293, 0.0), (4294, 0.0), (4295, 0.0), (4296, 0.0), (4297, 0.004709709469624474), (4298, 0.0), (4299, 0.0), (4300, 0.0), (4301, 0.0), (4302, 0.0), (4303, 0.0), (4304, 0.0), (4305, 0.0), (4306, 0.0), (4307, 0.0), (4308, 0.0), (4309, 0.0), (4310, 0.003087447907489101), (4311, 0.0), (4312, 0.002823001143573766), (4313, 0.0), (4314, 0.0), (4315, 0.003255471412712352), (4316, 0.003146444976356957), (4317, 0.0), (4318, 0.0), (4319, 0.0), (4320, 0.008535966078208236), (4321, 0.0), (4322, 0.0), (4323, 0.0), (4324, 0.0), (4325, 0.010734649703530467), (4326, 0.0), (4327, 0.010798147771792273), (4328, 0.006764671771761976), (4329, 0.0), (4330, 0.0), (4331, 0.0), (4332, 0.02445458560942548), (4333, 0.013767104895415555), (4334, 0.0), (4335, 0.002855200792704743), (4336, 0.006935662707202448), (4337, 0.0), (4338, 0.0), (4339, 0.002972292011869083), (4340, 0.0), (4341, 0.0), (4342, 0.0), (4343, 0.0), (4344, 0.012901021835381294), (4345, 0.0), (4346, 0.0), (4347, 0.006871157110277345), (4348, 0.0), (4349, 0.008083973238015905), (4350, 0.0), (4351, 0.0), (4352, 0.0), (4353, 0.0026829131276968187), (4354, 0.0), (4355, 0.02276263540583281), (4356, 0.0), (4357, 0.0), (4358, 0.0), (4359, 0.0), (4360, 0.0), (4361, 0.0), (4362, 0.0), (4363, 0.0), (4364, 0.0), (4365, 0.0), (4366, 0.0), (4367, 0.0), (4368, 0.005017087508357371), (4369, 0.0), (4370, 0.005892362732126743), (4371, 0.0), (4372, 0.0), (4373, 0.0), (4374, 0.0), (4375, 0.0), (4376, 0.010168845269304293), (4377, 0.0), (4378, 0.0), (4379, 0.011078936745672004), (4380, 0.0), (4381, 0.0), (4382, 0.0), (4383, 0.0), (4384, 0.0), (4385, 0.009985377141644202), (4386, 0.011080135211971109), (4387, 0.0), (4388, 0.0), (4389, 0.0), (4390, 0.004855144718044339), (4391, 0.0), (4392, 0.0), (4393, 0.0), (4394, 0.0), (4395, 0.0), (4396, 0.0), (4397, 0.0), (4398, 0.010780822727249352), (4399, 0.01256144586019588), (4400, 0.0), (4401, 0.025359533295161284), (4402, 0.0), (4403, 0.0), (4404, 0.0), (4405, 0.0), (4406, 0.0), (4407, 0.0), (4408, 0.008301160540433021), (4409, 0.0), (4410, 0.0), (4411, 0.0), (4412, 0.0), (4413, 0.0), (4414, 0.0), (4415, 0.0), (4416, 0.0), (4417, 0.0), (4418, 0.0), (4419, 0.0), (4420, 0.0), (4421, 0.005891786145580477), (4422, 0.0), (4423, 0.011132250209037516), (4424, 0.0), (4425, 0.012320675618156234), (4426, 0.0), (4427, 0.02340180861322895), (4428, 0.0), (4429, 0.005291538554085958), (4430, 0.0), (4431, 0.0), (4432, 0.0), (4433, 0.0), (4434, 0.0), (4435, 0.0), (4436, 0.0), (4437, 0.0), (4438, 0.0), (4439, 0.0), (4440, 0.0), (4441, 0.0), (4442, 0.0), (4443, 0.0), (4444, 0.0), (4445, 0.0), (4446, 0.0), (4447, 0.0), (4448, 0.027210767369034976), (4449, 0.017074164599707318), (4450, 0.014484836639080147), (4451, 0.006089167884977339), (4452, 0.0), (4453, 0.0), (4454, 0.0), (4455, 0.0), (4456, 0.0), (4457, 0.0), (4458, 0.0), (4459, 0.0), (4460, 0.0052429094460450755), (4461, 0.0), (4462, 0.0), (4463, 0.0), (4464, 0.0), (4465, 0.0028252204474416235), (4466, 0.013374674483576123), (4467, 0.0), (4468, 0.0), (4469, 0.0), (4470, 0.012064981079123216), (4471, 0.0), (4472, 0.0), (4473, 0.0), (4474, 0.0), (4475, 0.0), (4476, 0.0), (4477, 0.00465039519986916), (4478, 0.0), (4479, 0.009210928340533074), (4480, 0.008178641778114937), (4481, 0.0), (4482, 0.0), (4483, 0.00547684200649803), (4484, 0.0), (4485, 0.0), (4486, 0.0), (4487, 0.010980030992320762), (4488, 0.0), (4489, 0.0), (4490, 0.0), (4491, 0.0), (4492, 0.005090927566758593), (4493, 0.0), (4494, 0.008531158419490321), (4495, 0.0), (4496, 0.01372021026402366), (4497, 0.0), (4498, 0.0), (4499, 0.0036469575428203474), (4500, 0.005741577989667955), (4501, 0.0), (4502, 0.0), (4503, 0.0), (4504, 0.0), (4505, 0.0), (4506, 0.0), (4507, 0.0), (4508, 0.0), (4509, 0.0), (4510, 0.0), (4511, 0.0), (4512, 0.0), (4513, 0.002953019270421134), (4514, 0.008559415705978606), (4515, 0.0), (4516, 0.01814572052529175), (4517, 0.0), (4518, 0.0), (4519, 0.0), (4520, 0.0), (4521, 0.0), (4522, 0.0), (4523, 0.0), (4524, 0.0), (4525, 0.0), (4526, 0.0), (4527, 0.0), (4528, 0.0), (4529, 0.0), (4530, 0.0), (4531, 0.0), (4532, 0.0), (4533, 0.0), (4534, 0.0), (4535, 0.0), (4536, 0.0), (4537, 0.0), (4538, 0.0), (4539, 0.005039397719412804), (4540, 0.0), (4541, 0.0), (4542, 0.011057737113662858), (4543, 0.013998529848293077), (4544, 0.0), (4545, 0.0), (4546, 0.0), (4547, 0.0), (4548, 0.0), (4549, 0.0), (4550, 0.01490046239485387), (4551, 0.0), (4552, 0.0), (4553, 0.0), (4554, 0.005390615042674135), (4555, 0.015395154120984113), (4556, 0.0), (4557, 0.0), (4558, 0.0), (4559, 0.005857766003174989), (4560, 0.0), (4561, 0.0), (4562, 0.0), (4563, 0.01094540714670543), (4564, 0.0), (4565, 0.0029946565465307313), (4566, 0.0), (4567, 0.0), (4568, 0.0), (4569, 0.0), (4570, 0.0), (4571, 0.0), (4572, 0.0), (4573, 0.0), (4574, 0.0), (4575, 0.0), (4576, 0.0), (4577, 0.004539547749423619), (4578, 0.0), (4579, 0.0025839898463898225), (4580, 0.0), (4581, 0.0), (4582, 0.0), (4583, 0.0), (4584, 0.0), (4585, 0.0), (4586, 0.0), (4587, 0.011254884023969566), (4588, 0.008715058820682254), (4589, 0.01111042219817032), (4590, 0.0), (4591, 0.0), (4592, 0.0), (4593, 0.011164197866545296), (4594, 0.0), (4595, 0.0), (4596, 0.0), (4597, 0.0), (4598, 0.0), (4599, 0.012997237618377039), (4600, 0.0), (4601, 0.012602829197325005), (4602, 0.0), (4603, 0.0), (4604, 0.0), (4605, 0.0), (4606, 0.0), (4607, 0.0), (4608, 0.0), (4609, 0.0), (4610, 0.0), (4611, 0.0), (4612, 0.010285634703291404), (4613, 0.0), (4614, 0.0), (4615, 0.0), (4616, 0.0), (4617, 0.0), (4618, 0.0), (4619, 0.0), (4620, 0.0031203137614516084), (4621, 0.0), (4622, 0.0), (4623, 0.026155226533988683), (4624, 0.0), (4625, 0.0), (4626, 0.0), (4627, 0.0), (4628, 0.0), (4629, 0.0), (4630, 0.0), (4631, 0.0), (4632, 0.0), (4633, 0.0), (4634, 0.0), (4635, 0.0), (4636, 0.011344345018332525), (4637, 0.0), (4638, 0.0), (4639, 0.03053063446969215), (4640, 0.0), (4641, 0.0), (4642, 0.004738532736139183), (4643, 0.0), (4644, 0.0), (4645, 0.0), (4646, 0.0), (4647, 0.0), (4648, 0.0), (4649, 0.011847222293706815), (4650, 0.00495807672159185), (4651, 0.011444972045793641), (4652, 0.0), (4653, 0.0), (4654, 0.0), (4655, 0.0), (4656, 0.0), (4657, 0.0), (4658, 0.0), (4659, 0.0), (4660, 0.0), (4661, 0.0), (4662, 0.0), (4663, 0.0), (4664, 0.0), (4665, 0.0), (4666, 0.0), (4667, 0.0), (4668, 0.0073405353755274395), (4669, 0.013165854052813189), (4670, 0.014142499644521257), (4671, 0.0), (4672, 0.0), (4673, 0.0), (4674, 0.0), (4675, 0.0), (4676, 0.0), (4677, 0.004082469478976076), (4678, 0.0), (4679, 0.0), (4680, 0.0), (4681, 0.0), (4682, 0.0), (4683, 0.0), (4684, 0.0), (4685, 0.0), (4686, 0.0), (4687, 0.0), (4688, 0.011736965728714495), (4689, 0.0), (4690, 0.0), (4691, 0.018537348900176345), (4692, 0.0), (4693, 0.013798850801539326), (4694, 0.0), (4695, 0.0), (4696, 0.0), (4697, 0.0), (4698, 0.0), (4699, 0.0), (4700, 0.01778130261222427), (4701, 0.0), (4702, 0.007901630926624614), (4703, 0.010780391546000119), (4704, 0.0), (4705, 0.0), (4706, 0.0), (4707, 0.0), (4708, 0.010039065241652352), (4709, 0.0), (4710, 0.0), (4711, 0.0), (4712, 0.0), (4713, 0.0), (4714, 0.0), (4715, 0.01539495794437554), (4716, 0.0), (4717, 0.0), (4718, 0.0), (4719, 0.0), (4720, 0.0), (4721, 0.0), (4722, 0.0), (4723, 0.0), (4724, 0.011061585384163436), (4725, 0.0), (4726, 0.0), (4727, 0.0), (4728, 0.015101788704670301), (4729, 0.0), (4730, 0.0), (4731, 0.0), (4732, 0.0), (4733, 0.005331631181061542), (4734, 0.013387046060597877), (4735, 0.0), (4736, 0.0), (4737, 0.0), (4738, 0.004592813519586487), (4739, 0.0), (4740, 0.0), (4741, 0.012088449228420835), (4742, 0.0), (4743, 0.0), (4744, 0.0), (4745, 0.011144009315618882), (4746, 0.0), (4747, 0.008996014572245387), (4748, 0.004870282255462879), (4749, 0.0), (4750, 0.0), (4751, 0.0), (4752, 0.0), (4753, 0.0), (4754, 0.010463908175941507), (4755, 0.0), (4756, 0.0), (4757, 0.0), (4758, 0.018149428336848936), (4759, 0.0), (4760, 0.0), (4761, 0.0), (4762, 0.0), (4763, 0.0), (4764, 0.013623728942607802), (4765, 0.0), (4766, 0.0), (4767, 0.0), (4768, 0.0), (4769, 0.0), (4770, 0.0), (4771, 0.0), (4772, 0.0), (4773, 0.0), (4774, 0.0), (4775, 0.0), (4776, 0.0), (4777, 0.0), (4778, 0.0), (4779, 0.018402646806598855), (4780, 0.0), (4781, 0.0), (4782, 0.0), (4783, 0.0), (4784, 0.0), (4785, 0.0), (4786, 0.0), (4787, 0.01258703053423734), (4788, 0.0), (4789, 0.0), (4790, 0.0), (4791, 0.0), (4792, 0.004621559667912973), (4793, 0.0), (4794, 0.0), (4795, 0.0), (4796, 0.02314455626114583), (4797, 0.0), (4798, 0.0), (4799, 0.0), (4800, 0.0), (4801, 0.020757486701146653), (4802, 0.0)]\n"
          ]
        }
      ]
    },
    {
      "cell_type": "code",
      "source": [
        "#sort the scores in descending order\n",
        "sorted_movies = sorted(similarity_score, key = lambda x:x[1], reverse = True) "
      ],
      "metadata": {
        "id": "hxNatxo7g_NN"
      },
      "execution_count": 147,
      "outputs": []
    },
    {
      "cell_type": "code",
      "source": [
        "#print recommended movies\n",
        "i=0\n",
        "for movie in sorted_movies[1:]:\n",
        "  index = movie[0]\n",
        "  suggested_movie = movies[movies.index==index]['title'].values[0]\n",
        "  if (i<5):\n",
        "    print(suggested_movie)\n",
        "    i+=1  "
      ],
      "metadata": {
        "colab": {
          "base_uri": "https://localhost:8080/"
        },
        "id": "Q5SHHyrchS5C",
        "outputId": "9d01510c-a506-4ec5-f0e1-a50e4457047f"
      },
      "execution_count": 148,
      "outputs": [
        {
          "output_type": "stream",
          "name": "stdout",
          "text": [
            "I, Robot\n",
            "The Matrix Revolutions\n",
            "Blade Runner\n",
            "The Matrix\n",
            "Terminator 3: Rise of the Machines\n"
          ]
        }
      ]
    }
  ]
}